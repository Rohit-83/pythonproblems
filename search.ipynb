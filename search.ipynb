{
  "nbformat": 4,
  "nbformat_minor": 0,
  "metadata": {
    "colab": {
      "name": "search.ipynb",
      "provenance": [],
      "authorship_tag": "ABX9TyPASV3mBDxSiTS6thr7Mkxn",
      "include_colab_link": true
    },
    "kernelspec": {
      "name": "python3",
      "display_name": "Python 3"
    }
  },
  "cells": [
    {
      "cell_type": "markdown",
      "metadata": {
        "id": "view-in-github",
        "colab_type": "text"
      },
      "source": [
        "<a href=\"https://colab.research.google.com/github/Rohit-83/pythonproblems/blob/main/search.ipynb\" target=\"_parent\"><img src=\"https://colab.research.google.com/assets/colab-badge.svg\" alt=\"Open In Colab\"/></a>"
      ]
    },
    {
      "cell_type": "code",
      "metadata": {
        "id": "KQBYKeDGkmEO"
      },
      "source": [
        "#for linear serach we have to. traverse the list if we found the key then we simply return the index\n",
        "#else after completing we did not found return not found\n",
        "#linear search --> time complexity --> o(n)\n",
        "#binary search --> time complexity --> o(logn)"
      ],
      "execution_count": 1,
      "outputs": []
    },
    {
      "cell_type": "code",
      "metadata": {
        "id": "Vui-o_uYlBsx"
      },
      "source": [
        "def linear_serach(l,item):\n",
        "  for i in range(len(l)):\n",
        "    if l[i] == item:\n",
        "      return i \n",
        "  return \"not found\""
      ],
      "execution_count": 8,
      "outputs": []
    },
    {
      "cell_type": "code",
      "metadata": {
        "colab": {
          "base_uri": "https://localhost:8080/",
          "height": 37
        },
        "id": "Df07daExlWqS",
        "outputId": "11c8a421-f3a5-4370-cb9e-9e66f47d4f10"
      },
      "source": [
        "l = [1,2,3,5,7,2]\n",
        "item = 0\n",
        "linear_serach(l,item)"
      ],
      "execution_count": 14,
      "outputs": [
        {
          "output_type": "execute_result",
          "data": {
            "application/vnd.google.colaboratory.intrinsic+json": {
              "type": "string"
            },
            "text/plain": [
              "'not found'"
            ]
          },
          "metadata": {
            "tags": []
          },
          "execution_count": 14
        }
      ]
    },
    {
      "cell_type": "code",
      "metadata": {
        "id": "MC6_kLZcl-Of"
      },
      "source": [
        "# linear serach did not need sorted array, it work with all unsorted and sorted array but binary \n",
        "# search only work with sorted array and its time complexityis less than linear search "
      ],
      "execution_count": 15,
      "outputs": []
    },
    {
      "cell_type": "code",
      "metadata": {
        "id": "RyXhbv1Am-vE"
      },
      "source": [
        "\n",
        "def binarysearch(arr,item):\n",
        "  #we have to first check the item is present in which half\n",
        "  #for this we have to create mid point\n",
        "  start = 0\n",
        "  last = len(arr)-1\n",
        "  #always last should be length -1 beacuse if we last == length it will through index out of range\n",
        "  mid = (start+last)//2\n",
        "  while start <= last:\n",
        "    if arr[mid] == item:\n",
        "      return mid\n",
        "    elif arr[mid] < item:\n",
        "      start= mid+1\n",
        "      mid= (start + last) //2\n",
        "    elif arr[mid] > item:\n",
        "      last= mid-1\n",
        "      mid = (start+last) //2\n",
        "  return \"not found\"\n",
        " "
      ],
      "execution_count": 47,
      "outputs": []
    },
    {
      "cell_type": "code",
      "metadata": {
        "colab": {
          "base_uri": "https://localhost:8080/"
        },
        "id": "l6yHB2MJppAY",
        "outputId": "8762caf9-03d7-412b-fe11-bcdf923cc449"
      },
      "source": [
        "arr = [1,2,3,4,5,6,7]\n",
        "item = 7\n",
        "binaryserach(arr,item)"
      ],
      "execution_count": 48,
      "outputs": [
        {
          "output_type": "execute_result",
          "data": {
            "text/plain": [
              "6"
            ]
          },
          "metadata": {
            "tags": []
          },
          "execution_count": 48
        }
      ]
    },
    {
      "cell_type": "code",
      "metadata": {
        "id": "ENT0EIY2tQjf"
      },
      "source": [
        "#binary search with recursion\n",
        "def binarysearch_recursion(arr,item,start,last):\n",
        "  mid = (start + last) // 2 #integer division\n",
        "  while start <= last :#base case\n",
        "    if arr[mid] == item :\n",
        "      return mid \n",
        "    elif arr[mid] < item :\n",
        "      start = mid+1\n",
        "      return binarysearch_recursion(arr,item,start,last)\n",
        "    elif arr[mid]> item :\n",
        "      last = mid-1\n",
        "      return binarysearch_recursion(arr,item,start,last)\n",
        "  return \"not found\"\n"
      ],
      "execution_count": 37,
      "outputs": []
    },
    {
      "cell_type": "code",
      "metadata": {
        "colab": {
          "base_uri": "https://localhost:8080/",
          "height": 37
        },
        "id": "cCPHLrUCuqDc",
        "outputId": "950d569d-dcf6-416c-b508-7c00f43cb9cd"
      },
      "source": [
        "arr = [1,2,3,4,5,6,8,9]\n",
        "item = 10\n",
        "start =0\n",
        "last =len(arr)-1\n",
        "binarysearch_recursion(arr,item,start,last)"
      ],
      "execution_count": 49,
      "outputs": [
        {
          "output_type": "execute_result",
          "data": {
            "application/vnd.google.colaboratory.intrinsic+json": {
              "type": "string"
            },
            "text/plain": [
              "'not found'"
            ]
          },
          "metadata": {
            "tags": []
          },
          "execution_count": 49
        }
      ]
    },
    {
      "cell_type": "code",
      "metadata": {
        "id": "3paJ5PfBxgHU"
      },
      "source": [
        "def is_sorted(arr):\n",
        "  for i in range (len(arr)):\n",
        "    while arr[i] > arr[i+1]:\n",
        "      return False\n",
        "    return True"
      ],
      "execution_count": 51,
      "outputs": []
    },
    {
      "cell_type": "code",
      "metadata": {
        "colab": {
          "base_uri": "https://localhost:8080/"
        },
        "id": "2IN01rNJx1EG",
        "outputId": "c469e919-c658-4b91-e72c-a5c3cf955371"
      },
      "source": [
        "arr = [2,3,5,5,7,8,10]\n",
        "is_sorted(arr)"
      ],
      "execution_count": 54,
      "outputs": [
        {
          "output_type": "execute_result",
          "data": {
            "text/plain": [
              "True"
            ]
          },
          "metadata": {
            "tags": []
          },
          "execution_count": 54
        }
      ]
    },
    {
      "cell_type": "code",
      "metadata": {
        "colab": {
          "base_uri": "https://localhost:8080/"
        },
        "id": "Y8NdOj5I8cwH",
        "outputId": "5978a995-beed-4697-bfd8-175a329819ec"
      },
      "source": [
        "#in an array we have to find first repeating element\n",
        "arr = [1,2,1,3,4,5,3]\n",
        "common = []\n",
        "for i in range(len(arr)-1):\n",
        "  for j in range (i+1,len(arr)):\n",
        "    if arr[i] == arr[j]:\n",
        "      common.append(arr[i])\n",
        "print(common[1])\n",
        "#its time complexity = o(n^2)\n",
        "#if we have to solve the problem in less time comlexity then we have to use the concept of hashing"
      ],
      "execution_count": 63,
      "outputs": [
        {
          "output_type": "stream",
          "text": [
            "3\n"
          ],
          "name": "stdout"
        }
      ]
    },
    {
      "cell_type": "code",
      "metadata": {
        "colab": {
          "base_uri": "https://localhost:8080/"
        },
        "id": "xU-N_ZmP-EFz",
        "outputId": "101683f1-3008-45e2-f5a2-564f10997b96"
      },
      "source": [
        "#find the maxsum from two number\n",
        "arr = [1,2,5,1,3,6]\n",
        "arr.sort()\n",
        "max_sum = arr[-1]+arr[-2]\n",
        "print(max_sum)\n",
        "#it takes o(NlogN) bcz we use sorting here and minimum sorting time complexity is (NlogN)\n",
        "#if we have to solve in lesser time then \n",
        "max_value=0\n",
        "second_max=0\n",
        "arr1=[1,72,5,1,3,6]\n",
        "for i in range(len(arr1)):\n",
        "  if arr1[i]>max_value:\n",
        "    max_value=arr1[i]\n",
        "for i in range(len(arr1)):\n",
        "  if arr1[i] > second_max and arr1[i] < max_value:\n",
        "    second_max = arr1[i]\n",
        "max_sum2=max_value+second_max\n",
        "print(\"max_sum2:\",max_sum2)\n",
        "  \n"
      ],
      "execution_count": 72,
      "outputs": [
        {
          "output_type": "stream",
          "text": [
            "11\n",
            "max_sum2: 78\n"
          ],
          "name": "stdout"
        }
      ]
    },
    {
      "cell_type": "code",
      "metadata": {
        "colab": {
          "base_uri": "https://localhost:8080/"
        },
        "id": "UzWTuxp6C5h6",
        "outputId": "f130ed75-b54d-4a59-b9ad-1701bc2697ff"
      },
      "source": [
        "#in an given array we have to find n largest element\n",
        "arr = [2,1,3,5,6,7]\n",
        "arr.sort()\n",
        "#it only work for non repeeitng elemnt\n",
        "#time complexity o(NlogN)\n",
        "print(arr[-3])\n",
        "\n"
      ],
      "execution_count": 75,
      "outputs": [
        {
          "output_type": "stream",
          "text": [
            "5\n"
          ],
          "name": "stdout"
        }
      ]
    },
    {
      "cell_type": "code",
      "metadata": {
        "colab": {
          "base_uri": "https://localhost:8080/"
        },
        "id": "Ozt2q5UjELp2",
        "outputId": "08d694ad-32fc-413b-9631-6db298854d24"
      },
      "source": [
        "#in. an given array we have to find the element from where the array value start decreasing\n",
        "arr= [1,2,3,5,6,7,3,2]\n",
        "for i in range(len(arr)-1):\n",
        "  if arr[i]<arr[i+1]:\n",
        "    continue\n",
        "  else:\n",
        "    print(arr[i])\n",
        "    break"
      ],
      "execution_count": 84,
      "outputs": [
        {
          "output_type": "stream",
          "text": [
            "7\n"
          ],
          "name": "stdout"
        }
      ]
    },
    {
      "cell_type": "code",
      "metadata": {
        "colab": {
          "base_uri": "https://localhost:8080/"
        },
        "id": "1DknSYyNGASS",
        "outputId": "9cfe604b-b92f-42c1-fdeb-526a9b50e174"
      },
      "source": [
        "arr = [1,2,3,4,5,6,2]\n",
        "sum1 = 5\n",
        "l = []\n",
        "for i in range(len(arr)):\n",
        "  for j in range(len(arr)):\n",
        "    if arr[i]+arr[j] == sum:\n",
        "      print(arr[i],arr[j])"
      ],
      "execution_count": 91,
      "outputs": [
        {
          "output_type": "stream",
          "text": [
            "1 4\n",
            "2 3\n",
            "3 2\n",
            "3 2\n",
            "4 1\n",
            "2 3\n"
          ],
          "name": "stdout"
        }
      ]
    }
  ]
}