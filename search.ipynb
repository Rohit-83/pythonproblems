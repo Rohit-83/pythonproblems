{
  "nbformat": 4,
  "nbformat_minor": 0,
  "metadata": {
    "colab": {
      "name": "search.ipynb",
      "provenance": [],
      "authorship_tag": "ABX9TyMuXIfhE+7dFNsDN+U4+YR2",
      "include_colab_link": true
    },
    "kernelspec": {
      "name": "python3",
      "display_name": "Python 3"
    }
  },
  "cells": [
    {
      "cell_type": "markdown",
      "metadata": {
        "id": "view-in-github",
        "colab_type": "text"
      },
      "source": [
        "<a href=\"https://colab.research.google.com/github/Rohit-83/pythonproblems/blob/main/search.ipynb\" target=\"_parent\"><img src=\"https://colab.research.google.com/assets/colab-badge.svg\" alt=\"Open In Colab\"/></a>"
      ]
    },
    {
      "cell_type": "code",
      "metadata": {
        "id": "KQBYKeDGkmEO"
      },
      "source": [
        "#for linear serach we have to. traverse the list if we found the key then we simply return the index\n",
        "#else after completing we did not found return not found\n",
        "#linear search --> time complexity --> o(n)\n",
        "#binary search --> time complexity --> o(logn)"
      ],
      "execution_count": 1,
      "outputs": []
    },
    {
      "cell_type": "code",
      "metadata": {
        "id": "Vui-o_uYlBsx"
      },
      "source": [
        "def linear_serach(l,item):\n",
        "  for i in range(len(l)):\n",
        "    if l[i] == item:\n",
        "      return i \n",
        "  return \"not found\""
      ],
      "execution_count": 8,
      "outputs": []
    },
    {
      "cell_type": "code",
      "metadata": {
        "colab": {
          "base_uri": "https://localhost:8080/",
          "height": 37
        },
        "id": "Df07daExlWqS",
        "outputId": "11c8a421-f3a5-4370-cb9e-9e66f47d4f10"
      },
      "source": [
        "l = [1,2,3,5,7,2]\n",
        "item = 0\n",
        "linear_serach(l,item)"
      ],
      "execution_count": 14,
      "outputs": [
        {
          "output_type": "execute_result",
          "data": {
            "application/vnd.google.colaboratory.intrinsic+json": {
              "type": "string"
            },
            "text/plain": [
              "'not found'"
            ]
          },
          "metadata": {
            "tags": []
          },
          "execution_count": 14
        }
      ]
    },
    {
      "cell_type": "code",
      "metadata": {
        "id": "MC6_kLZcl-Of"
      },
      "source": [
        "# linear serach did not need sorted array, it work with all unsorted and sorted array but binary \n",
        "# search only work with sorted array and its time complexityis less than linear search "
      ],
      "execution_count": 15,
      "outputs": []
    },
    {
      "cell_type": "code",
      "metadata": {
        "id": "RyXhbv1Am-vE"
      },
      "source": [
        "\n",
        "def binarysearch(arr,item):\n",
        "  #we have to first check the item is present in which half\n",
        "  #for this we have to create mid point\n",
        "  start = 0\n",
        "  last = len(arr)-1\n",
        "  #always last should be length -1 beacuse if we last == length it will through index out of range\n",
        "  mid = (start+last)//2\n",
        "  while start <= last:\n",
        "    if arr[mid] == item:\n",
        "      return mid\n",
        "    elif arr[mid] < item:\n",
        "      start= mid+1\n",
        "      mid= (start + last) //2\n",
        "    elif arr[mid] > item:\n",
        "      last= mid-1\n",
        "      mid = (start+last) //2\n",
        "  return \"not found\"\n",
        " "
      ],
      "execution_count": 47,
      "outputs": []
    },
    {
      "cell_type": "code",
      "metadata": {
        "colab": {
          "base_uri": "https://localhost:8080/"
        },
        "id": "l6yHB2MJppAY",
        "outputId": "8762caf9-03d7-412b-fe11-bcdf923cc449"
      },
      "source": [
        "arr = [1,2,3,4,5,6,7]\n",
        "item = 7\n",
        "binaryserach(arr,item)"
      ],
      "execution_count": 48,
      "outputs": [
        {
          "output_type": "execute_result",
          "data": {
            "text/plain": [
              "6"
            ]
          },
          "metadata": {
            "tags": []
          },
          "execution_count": 48
        }
      ]
    },
    {
      "cell_type": "code",
      "metadata": {
        "id": "ENT0EIY2tQjf"
      },
      "source": [
        "#binary search with recursion\n",
        "def binarysearch_recursion(arr,item,start,last):\n",
        "  mid = (start + last) // 2 #integer division\n",
        "  while start <= last :#base case\n",
        "    if arr[mid] == item :\n",
        "      return mid \n",
        "    elif arr[mid] < item :\n",
        "      start = mid+1\n",
        "      return binarysearch_recursion(arr,item,start,last)\n",
        "    elif arr[mid]> item :\n",
        "      last = mid-1\n",
        "      return binarysearch_recursion(arr,item,start,last)\n",
        "  return \"not found\"\n"
      ],
      "execution_count": 37,
      "outputs": []
    },
    {
      "cell_type": "code",
      "metadata": {
        "colab": {
          "base_uri": "https://localhost:8080/",
          "height": 37
        },
        "id": "cCPHLrUCuqDc",
        "outputId": "950d569d-dcf6-416c-b508-7c00f43cb9cd"
      },
      "source": [
        "arr = [1,2,3,4,5,6,8,9]\n",
        "item = 10\n",
        "start =0\n",
        "last =len(arr)-1\n",
        "binarysearch_recursion(arr,item,start,last)"
      ],
      "execution_count": 49,
      "outputs": [
        {
          "output_type": "execute_result",
          "data": {
            "application/vnd.google.colaboratory.intrinsic+json": {
              "type": "string"
            },
            "text/plain": [
              "'not found'"
            ]
          },
          "metadata": {
            "tags": []
          },
          "execution_count": 49
        }
      ]
    },
    {
      "cell_type": "code",
      "metadata": {
        "id": "3paJ5PfBxgHU"
      },
      "source": [
        "def is_sorted(arr):\n",
        "  for i in range (len(arr)):\n",
        "    while arr[i] > arr[i+1]:\n",
        "      return False\n",
        "    return True"
      ],
      "execution_count": 51,
      "outputs": []
    },
    {
      "cell_type": "code",
      "metadata": {
        "colab": {
          "base_uri": "https://localhost:8080/"
        },
        "id": "2IN01rNJx1EG",
        "outputId": "7726cfd2-94f7-48b5-85f8-0db8203f7748"
      },
      "source": [
        "arr = [2,3,5,5,7,8,10]\n",
        "is_sorted(arr)"
      ],
      "execution_count": 53,
      "outputs": [
        {
          "output_type": "execute_result",
          "data": {
            "text/plain": [
              "True"
            ]
          },
          "metadata": {
            "tags": []
          },
          "execution_count": 53
        }
      ]
    }
  ]
}