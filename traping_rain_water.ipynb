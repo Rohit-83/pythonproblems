{
  "nbformat": 4,
  "nbformat_minor": 0,
  "metadata": {
    "colab": {
      "name": "traping-rain-water.ipynb",
      "provenance": [],
      "authorship_tag": "ABX9TyNpY+Di1DgEGYBxBi0ZFVDq",
      "include_colab_link": true
    },
    "kernelspec": {
      "name": "python3",
      "display_name": "Python 3"
    }
  },
  "cells": [
    {
      "cell_type": "markdown",
      "metadata": {
        "id": "view-in-github",
        "colab_type": "text"
      },
      "source": [
        "<a href=\"https://colab.research.google.com/github/Rohit-83/pythonproblems/blob/main/traping_rain_water.ipynb\" target=\"_parent\"><img src=\"https://colab.research.google.com/assets/colab-badge.svg\" alt=\"Open In Colab\"/></a>"
      ]
    },
    {
      "cell_type": "code",
      "metadata": {
        "id": "t_Gi7V7ycPNw"
      },
      "source": [
        "def total_water_stored(arr):\n",
        "  total_water = 0\n",
        "  for i in range(1,len(arr)-1):\n",
        "    left = arr[i]\n",
        "    for j in range(i):\n",
        "      left = max(left,arr[j])\n",
        "    right = arr[i]\n",
        "    for k in range (i+1,len(arr)):\n",
        "      right= max(right,arr[k])\n",
        "\n",
        "    total_water = total_water+(min(left,right)-arr[i])\n",
        "  return total_water"
      ],
      "execution_count": 28,
      "outputs": []
    },
    {
      "cell_type": "code",
      "metadata": {
        "id": "Mnjxu-E3ezNL"
      },
      "source": [
        ""
      ],
      "execution_count": 25,
      "outputs": []
    },
    {
      "cell_type": "code",
      "metadata": {
        "colab": {
          "base_uri": "https://localhost:8080/"
        },
        "id": "cksCY1JKgDxl",
        "outputId": "469fea64-3168-4e6b-e9b8-2a0b69c1cd26"
      },
      "source": [
        "arr = [4,2,7]\n",
        "print(total_water_stored(arr))"
      ],
      "execution_count": 32,
      "outputs": [
        {
          "output_type": "stream",
          "text": [
            "2\n"
          ],
          "name": "stdout"
        }
      ]
    }
  ]
}