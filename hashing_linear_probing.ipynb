{
  "nbformat": 4,
  "nbformat_minor": 0,
  "metadata": {
    "colab": {
      "name": "hashing-linear-probimg.ipynb",
      "provenance": [],
      "collapsed_sections": [],
      "authorship_tag": "ABX9TyNQpTGuysY+Ff3InNt5oKGc",
      "include_colab_link": true
    },
    "kernelspec": {
      "name": "python3",
      "display_name": "Python 3"
    }
  },
  "cells": [
    {
      "cell_type": "markdown",
      "metadata": {
        "id": "view-in-github",
        "colab_type": "text"
      },
      "source": [
        "<a href=\"https://colab.research.google.com/github/Rohit-83/pythonproblems/blob/main/hashing_linear_probing.ipynb\" target=\"_parent\"><img src=\"https://colab.research.google.com/assets/colab-badge.svg\" alt=\"Open In Colab\"/></a>"
      ]
    },
    {
      "cell_type": "code",
      "metadata": {
        "id": "Y6wATZx1bh12"
      },
      "source": [
        "class Dictionary:\n",
        "  #we will create dictionary with the help of linear probing\n",
        "  #we have to create two array (1)for keeping key and another for keeping value\n",
        "  def __init__(self,size):\n",
        "    self.size=size\n",
        "    self.slots=[None]*self.size\n",
        "    self.data=[None]*self.size\n",
        "    #slots for key snd data for value\n",
        "\n",
        "  def put(self,key,value):\n",
        "    #first we have to create hash value for the key\n",
        "    hash_value=self.hashing(key)\n",
        "    if self.slots[hash_value] == None:\n",
        "      self.slots[hash_value] = key\n",
        "      self.data[hash_value] = value\n",
        "    else:\n",
        "      hash_value=self.hashing(key)\n",
        "      if self.slots[hash_value]== key:\n",
        "        #update the value\n",
        "        self.data[hash_value]=value\n",
        "      \n",
        "      else:\n",
        "        new_hash = self.rehashing(hash_value)\n",
        "\n",
        "        while self.slots[new_hash]!=None and self.slots[new_hash]!=key:\n",
        "          new_hash = self.rehashing(new_hash)\n",
        "\n",
        "        if self.slots[new_hash]==None:\n",
        "          self.slots[new_hash] = key\n",
        "          self.data[new_hash] = value\n",
        "\n",
        "        elif self.slots[new_hash]==key:\n",
        "          self.data[new_hash]=value\n",
        "\n",
        "  def __setitem__(self,key,value):\n",
        "    self.put(key,value)\n",
        "\n",
        "  def get(self,key):\n",
        "    #calculate the hash value of key\n",
        "    start_value = self.hashing(key)\n",
        "    if self.slots[start_value] == key:\n",
        "      return self.data[start_value]\n",
        "    else:\n",
        "      next_value=self.rehashing(start_value)\n",
        "      while self.slots[next_value]!=key and self.slots[next_value]!=None and  next_value!=start_value:\n",
        "        next_value=self.rehashing(next_value)\n",
        "      if self.slots[next_value]== key:\n",
        "        return self.data[next_value]\n",
        "      elif next_value == start_value:\n",
        "        return \"not found\"  \n",
        "      elif self.slots[next_value] == None:\n",
        "        return \"none found\"\n",
        "\n",
        "  def delete(self,key):\n",
        "    hash_value=self.hashing(key)\n",
        "    if self.slots[hash_value] == key:\n",
        "      print(self.slots[hash_value],\":\",self.data[hash_value])\n",
        "      self.slots[hash_value]=None\n",
        "      self.data[hash_value]=None\n",
        "    else:\n",
        "      next_value= self.rehashing(hash_value)\n",
        "      while self.slots[next_value]!=key and self.slots[next_value]!=None and next_value!=hash_value:\n",
        "        next_value=self.rehashing(next_value)\n",
        "\n",
        "      if self.slots[next_value]==key:\n",
        "        print(self.slots[hash_value],\":\",self.data[hash_value])\n",
        "        self.slots[next_value]=None\n",
        "        self.data[next_value]=None\n",
        "\n",
        "      elif self.slots[next_value] == None:\n",
        "        return \"not found\"\n",
        "\n",
        "      elif next_value == hash_value:\n",
        "        return \"nahi mila\"\n",
        "\n",
        "\n",
        "\n",
        "  def __getitem__(self,key):\n",
        "    return self.get(key)\n",
        "\n",
        "  def dict_len(self):\n",
        "    counter=0\n",
        "    for i in range(self.size):\n",
        "      if self.slots[i]!=None:\n",
        "        counter+=1\n",
        "    return counter\n",
        "\n",
        "  def __str__(self):\n",
        "    for i in range(self.size):\n",
        "      if self.slots[i]!=None:\n",
        "        print(self.slots[i],\":\",self.data[i],end=\" \")\n",
        "    return \"\"\n",
        "\n",
        "  def hashing(self,key):\n",
        "    #hash is predefine function which calculate hash value\n",
        "    #for int data type hash(1)=1\n",
        "    #for  str data hash create some value and that value may. be poitive or negative\n",
        "    #so we use. abs for converting them in positive\n",
        "    return abs(hash(key)) % self.size\n",
        "\n",
        "  def rehashing(self,old_hash):\n",
        "    return (old_hash+1) % self.size\n",
        "\n"
      ],
      "execution_count": 101,
      "outputs": []
    },
    {
      "cell_type": "code",
      "metadata": {
        "id": "zyoq7sdtkHZx"
      },
      "source": [
        "\n",
        "d1=Dictionary(3)\n"
      ],
      "execution_count": 102,
      "outputs": []
    },
    {
      "cell_type": "code",
      "metadata": {
        "id": "9VU0o3jYkJrJ"
      },
      "source": [
        "d1[\"c\"]=\"python\"\n",
        "d1[0]=\"java\"\n"
      ],
      "execution_count": 103,
      "outputs": []
    },
    {
      "cell_type": "code",
      "metadata": {
        "colab": {
          "base_uri": "https://localhost:8080/"
        },
        "id": "PT5zjHhinalF",
        "outputId": "79aeb06f-a96d-4711-d6ae-6afcb7a9a0f2"
      },
      "source": [
        "d1.slots"
      ],
      "execution_count": 70,
      "outputs": [
        {
          "output_type": "execute_result",
          "data": {
            "text/plain": [
              "[0, 'c', None]"
            ]
          },
          "metadata": {
            "tags": []
          },
          "execution_count": 70
        }
      ]
    },
    {
      "cell_type": "code",
      "metadata": {
        "colab": {
          "base_uri": "https://localhost:8080/"
        },
        "id": "Lb56uanLo6TC",
        "outputId": "2574f348-9897-45e7-f5ed-3f9b82a308f4"
      },
      "source": [
        "d1.dict_len()"
      ],
      "execution_count": 93,
      "outputs": [
        {
          "output_type": "execute_result",
          "data": {
            "text/plain": [
              "2"
            ]
          },
          "metadata": {
            "tags": []
          },
          "execution_count": 93
        }
      ]
    },
    {
      "cell_type": "code",
      "metadata": {
        "colab": {
          "base_uri": "https://localhost:8080/"
        },
        "id": "wvNBuhlfpVoI",
        "outputId": "8b34b9a6-18d4-4ecd-c5fd-507dd5a3551f"
      },
      "source": [
        "print(d1)"
      ],
      "execution_count": 104,
      "outputs": [
        {
          "output_type": "stream",
          "text": [
            "0 : java c : python \n"
          ],
          "name": "stdout"
        }
      ]
    },
    {
      "cell_type": "code",
      "metadata": {
        "colab": {
          "base_uri": "https://localhost:8080/",
          "height": 37
        },
        "id": "hA8Q_5Dv0YlP",
        "outputId": "a4b78b4e-fa9d-4449-a099-0f48c3ec6edd"
      },
      "source": [
        "d1.delete(\"A\")"
      ],
      "execution_count": 107,
      "outputs": [
        {
          "output_type": "execute_result",
          "data": {
            "application/vnd.google.colaboratory.intrinsic+json": {
              "type": "string"
            },
            "text/plain": [
              "'not found'"
            ]
          },
          "metadata": {
            "tags": []
          },
          "execution_count": 107
        }
      ]
    }
  ]
}