{
  "nbformat": 4,
  "nbformat_minor": 0,
  "metadata": {
    "colab": {
      "name": "Untitled0.ipynb",
      "provenance": [],
      "collapsed_sections": [],
      "authorship_tag": "ABX9TyNJbE7A3xYOUD0+cnCz+hhh",
      "include_colab_link": true
    },
    "kernelspec": {
      "name": "python3",
      "display_name": "Python 3"
    }
  },
  "cells": [
    {
      "cell_type": "markdown",
      "metadata": {
        "id": "view-in-github",
        "colab_type": "text"
      },
      "source": [
        "<a href=\"https://colab.research.google.com/github/Rohit-83/pythonproblems/blob/main/Untitled0.ipynb\" target=\"_parent\"><img src=\"https://colab.research.google.com/assets/colab-badge.svg\" alt=\"Open In Colab\"/></a>"
      ]
    },
    {
      "cell_type": "code",
      "metadata": {
        "id": "I0M3cV3MyZi5"
      },
      "source": [
        "import ctypes\n",
        "\n",
        "class MyList:\n",
        "\n",
        "  def __init__(self):\n",
        "    self.capacity=1\n",
        "    self.n=0\n",
        "    self.A= self.__make_array(self.capacity)\n",
        "\n",
        "  def __len__(self):\n",
        "    return self.n\n",
        "  \n",
        "  def append(self,item):\n",
        "    if self.capacity==self.n:\n",
        "      #we have to resize the array\n",
        "      self.__resize(2*self.capacity)\n",
        "    self.A[self.n]=item\n",
        "    self.n+=1  \n",
        "\n",
        "  def __getitem__(self,index):\n",
        "    if 0<=index<self.n:\n",
        "      return self.A[index]\n",
        "    else:\n",
        "      return \"invalid index\"\n",
        "\n",
        "  def pop(self):\n",
        "    if self.n==0:\n",
        "      return \"empty\"\n",
        "    else:\n",
        "      print(self.A[self.n-1])\n",
        "      self.n=self.n-1\n",
        "\n",
        "  def insert(self,item,pos):\n",
        "    if 0<=pos<self.n:\n",
        "      if self.n==self.capacity:\n",
        "        #resize the array\n",
        "        self.__resize(2*self.capacity)\n",
        "      #insert now\n",
        "      for i in range(self.n,pos,-1):\n",
        "        #shift the elemnts\n",
        "        self.A[i]=self.A[i-1]\n",
        "      #after shifting we have pos to insert the item\n",
        "      self.A[pos]=item\n",
        "      self.n+=1\n",
        "    else:\n",
        "      return \"index error\"\n",
        "\n",
        "  def __delitem__(self,index):\n",
        "    if 0<=index<self.n:\n",
        "      for i in range(index,self.n-1):\n",
        "        self.A[i]=self.A[i+1]\n",
        "\n",
        "      self.n-=1\n",
        "    else:\n",
        "      return \"invalid index\"\n",
        "\n",
        "  def remove(self,item):\n",
        "    for i in range(self.n):\n",
        "      if self.A[i]==item:\n",
        "        #delete that item\n",
        "        return self.__delitem__(i)\n",
        "    return \"error\"\n",
        "\n",
        "  def clear(self):\n",
        "    #writing the initial state\n",
        "    self.n=0\n",
        "    self.capacity=1\n",
        "\n",
        "  def find(self,item):\n",
        "    for i in range(self.n):\n",
        "      if self.A[i]==item:\n",
        "        return i\n",
        "\n",
        "    return \"not found\"\n",
        "\n",
        "\n",
        "  def __str__(self):\n",
        "\n",
        "    result=\"\"\n",
        "    for i in range(self.n):\n",
        "      result=result+str(self.A[i])+\",\"\n",
        "\n",
        "    return \"[\"+result[:-1]+\"]\"\n",
        "\n",
        "\n",
        "  def __make_array(self,capacity):\n",
        "    return (capacity*ctypes.py_object)()\n",
        "\n",
        "  def __resize(self,capacity):\n",
        "    #create new array of given size\n",
        "    B= self.__make_array(capacity)\n",
        "    self.capacity=capacity\n",
        "\n",
        "    #copy the element of A into B\n",
        "    for i in range(self.n):\n",
        "      B[i]=self.A[i]\n",
        "\n",
        "    #reasign it to A\n",
        "    self.A= B \n"
      ],
      "execution_count": 45,
      "outputs": []
    },
    {
      "cell_type": "code",
      "metadata": {
        "id": "mNspie-Fzl5K"
      },
      "source": [
        "l=MyList()\n",
        "l.append(1)\n",
        "l.append(2)\n",
        "l.append(3)\n",
        "l.append(4)\n",
        "l.insert(4,0)"
      ],
      "execution_count": 53,
      "outputs": []
    },
    {
      "cell_type": "code",
      "metadata": {
        "id": "ZD53NUnj49mw"
      },
      "source": [
        "l.remove(1)"
      ],
      "execution_count": 55,
      "outputs": []
    },
    {
      "cell_type": "code",
      "metadata": {
        "colab": {
          "base_uri": "https://localhost:8080/"
        },
        "id": "34S50u62Ep1v",
        "outputId": "7a4a8720-fe9d-49d8-cc72-764c2692b663"
      },
      "source": [
        "print(l)\n"
      ],
      "execution_count": 56,
      "outputs": [
        {
          "output_type": "stream",
          "text": [
            "[4,2,3,4]\n"
          ],
          "name": "stdout"
        }
      ]
    }
  ]
}