{
  "nbformat": 4,
  "nbformat_minor": 0,
  "metadata": {
    "colab": {
      "name": "queue-using-linkedlist.ipynb",
      "provenance": [],
      "authorship_tag": "ABX9TyM/erTzOmyT9FE+eUnkkZYX",
      "include_colab_link": true
    },
    "kernelspec": {
      "name": "python3",
      "display_name": "Python 3"
    }
  },
  "cells": [
    {
      "cell_type": "markdown",
      "metadata": {
        "id": "view-in-github",
        "colab_type": "text"
      },
      "source": [
        "<a href=\"https://colab.research.google.com/github/Rohit-83/pythonproblems/blob/main/queue_using_linkedlist.ipynb\" target=\"_parent\"><img src=\"https://colab.research.google.com/assets/colab-badge.svg\" alt=\"Open In Colab\"/></a>"
      ]
    },
    {
      "cell_type": "code",
      "metadata": {
        "id": "lmepSjOg49a1"
      },
      "source": [
        "#for creating linked list first we have to create node\n",
        "class Node:\n",
        "  def __init__(self,value):\n",
        "    self.data=value\n",
        "    self.address=None"
      ],
      "execution_count": 5,
      "outputs": []
    },
    {
      "cell_type": "code",
      "metadata": {
        "id": "aEq1C2lz6GAl"
      },
      "source": [
        "class Queue:\n",
        "  #for creating queue we have to use two pointer\n",
        "  #one for insertion and one for deletion head and tail\n",
        "  \n",
        "  def __init__(self):\n",
        "    self.front=None\n",
        "    self.rear=None\n",
        "\n",
        "  def enqueue(self,value):\n",
        "    #first check if queue is empty or not\n",
        "    new_node=Node(value)\n",
        "    if self.front==None:\n",
        "      self.front=new_node\n",
        "      self.rear= self.front\n",
        "    else:\n",
        "      self.rear.address=new_node\n",
        "      self.rear=new_node\n",
        "\n",
        "  def dequeue(self):\n",
        "    if self.front==None:\n",
        "      return \"empty\"\n",
        "    else:\n",
        "      self.front=self.front.address\n",
        "\n",
        "  def traverse(self):\n",
        "    temp=self.front\n",
        "    while temp!=None:\n",
        "      print(temp.data,end=\" \")\n",
        "      temp=temp.address\n",
        "\n",
        "\n",
        "  def isempty(self):\n",
        "    return self.front==None\n",
        "\n",
        "  def size(self):\n",
        "    temp=self.front\n",
        "    counter=0\n",
        "    while temp!=None:\n",
        "      counter+=1\n",
        "      temp=temp.address\n",
        "    return counter\n",
        "\n",
        "  def front_item(self):\n",
        "    if self.front==None:\n",
        "      return \"empty\"\n",
        "    else:\n",
        "      return self.front.data\n",
        "\n",
        "\n",
        "  def last_item(self):\n",
        "    if self.front==None:\n",
        "      return \"empty\"\n",
        "    else:\n",
        "      return self.rear.data\n",
        "\n"
      ],
      "execution_count": 43,
      "outputs": []
    },
    {
      "cell_type": "code",
      "metadata": {
        "id": "0Wnq-oQv8eco"
      },
      "source": [
        "q=Queue()"
      ],
      "execution_count": 39,
      "outputs": []
    },
    {
      "cell_type": "code",
      "metadata": {
        "id": "PrtdFqew83bX"
      },
      "source": [
        "q.dequeue()"
      ],
      "execution_count": 24,
      "outputs": []
    },
    {
      "cell_type": "code",
      "metadata": {
        "id": "KR8q62M_9Vao"
      },
      "source": [
        "q.enqueue(1)\n",
        "q.enqueue(2)\n",
        "q.enqueue(3)\n"
      ],
      "execution_count": 40,
      "outputs": []
    },
    {
      "cell_type": "code",
      "metadata": {
        "colab": {
          "base_uri": "https://localhost:8080/"
        },
        "id": "L1VXpVeY9rXm",
        "outputId": "2ab13af4-8535-484e-f611-d05a3e823729"
      },
      "source": [
        "q.traverse()"
      ],
      "execution_count": 41,
      "outputs": [
        {
          "output_type": "stream",
          "text": [
            "1 2 3 "
          ],
          "name": "stdout"
        }
      ]
    }
  ]
}