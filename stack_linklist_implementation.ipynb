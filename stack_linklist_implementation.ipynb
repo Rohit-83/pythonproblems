{
  "nbformat": 4,
  "nbformat_minor": 0,
  "metadata": {
    "colab": {
      "name": "stack-linklist-implementation.ipynb",
      "provenance": [],
      "collapsed_sections": [],
      "authorship_tag": "ABX9TyNhjJmyd7f0v2LM2J0EC+US",
      "include_colab_link": true
    },
    "kernelspec": {
      "name": "python3",
      "display_name": "Python 3"
    }
  },
  "cells": [
    {
      "cell_type": "markdown",
      "metadata": {
        "id": "view-in-github",
        "colab_type": "text"
      },
      "source": [
        "<a href=\"https://colab.research.google.com/github/Rohit-83/pythonproblems/blob/main/stack_linklist_implementation.ipynb\" target=\"_parent\"><img src=\"https://colab.research.google.com/assets/colab-badge.svg\" alt=\"Open In Colab\"/></a>"
      ]
    },
    {
      "cell_type": "code",
      "metadata": {
        "id": "v4pPPhID5oRd"
      },
      "source": [
        "class Node:\n",
        "\n",
        "  def __init__(self,value):\n",
        "    self.data=value\n",
        "    self.address=None"
      ],
      "execution_count": 87,
      "outputs": []
    },
    {
      "cell_type": "code",
      "metadata": {
        "id": "9lEcvc0R6LLC"
      },
      "source": [
        "class Stack:\n",
        "\n",
        "  def __init__(self):\n",
        "    self.top=None \n",
        "\n",
        "  def isempty(self):\n",
        "    if self.top==None:\n",
        "      return True\n",
        "    return False\n",
        "\n",
        "  def push(self,value):\n",
        "    new_node=Node(value)\n",
        "    #we have to add new node by head insertion\n",
        "    new_node.address=self.top\n",
        "    self.top=new_node\n",
        "\n",
        "  def peek(self):\n",
        "    if self.isempty():\n",
        "      return \"empty\"\n",
        "    return self.top.data\n",
        "\n",
        "  def pop(self):\n",
        "    if self.isempty():\n",
        "      return \"empty\"\n",
        "    else:\n",
        "      #we have to change the address of head node\n",
        "      data=self.top.data\n",
        "      self.top=self.top.address\n",
        "      return data\n",
        "\n",
        "  def traverse(self):\n",
        "    temp=self.top\n",
        "    while temp!=None:\n",
        "      print(temp.data,end=\" \")\n",
        "      temp=temp.address\n",
        "  #wap to determine size of stack\n",
        "  def size(self):\n",
        "    counter=0\n",
        "    temp=self.top\n",
        "    while temp!=None:\n",
        "      temp=temp.address\n",
        "      counter+=1\n",
        "    return counter\n",
        "\n",
        "\n",
        "\n"
      ],
      "execution_count": 88,
      "outputs": []
    },
    {
      "cell_type": "code",
      "metadata": {
        "id": "KILS3XNJ8cdt"
      },
      "source": [
        "s=Stack()"
      ],
      "execution_count": null,
      "outputs": []
    },
    {
      "cell_type": "code",
      "metadata": {
        "colab": {
          "base_uri": "https://localhost:8080/"
        },
        "id": "ymeXrkxO8esy",
        "outputId": "8d7f2b2e-0369-4f7b-923d-a528bf25af63"
      },
      "source": [
        "s.isempty()"
      ],
      "execution_count": null,
      "outputs": [
        {
          "output_type": "execute_result",
          "data": {
            "text/plain": [
              "False"
            ]
          },
          "metadata": {
            "tags": []
          },
          "execution_count": 30
        }
      ]
    },
    {
      "cell_type": "code",
      "metadata": {
        "id": "vPqMy-rf8lNP"
      },
      "source": [
        "s.push(3)\n",
        "s.push(4)\n",
        "s.push(6)"
      ],
      "execution_count": null,
      "outputs": []
    },
    {
      "cell_type": "code",
      "metadata": {
        "colab": {
          "base_uri": "https://localhost:8080/"
        },
        "id": "6DAfpJZw8p1h",
        "outputId": "8b9fdaae-a034-47c4-8f9f-f8b9fdccfbcb"
      },
      "source": [
        "s.traverse()"
      ],
      "execution_count": null,
      "outputs": [
        {
          "output_type": "stream",
          "text": [
            "3 "
          ],
          "name": "stdout"
        }
      ]
    },
    {
      "cell_type": "code",
      "metadata": {
        "colab": {
          "base_uri": "https://localhost:8080/"
        },
        "id": "e0HzEzSz9-0m",
        "outputId": "1f857ebc-3400-4c0f-da15-d2fe8e31f8a9"
      },
      "source": [
        "s.pop()"
      ],
      "execution_count": null,
      "outputs": [
        {
          "output_type": "execute_result",
          "data": {
            "text/plain": [
              "4"
            ]
          },
          "metadata": {
            "tags": []
          },
          "execution_count": 10
        }
      ]
    },
    {
      "cell_type": "code",
      "metadata": {
        "id": "kev3a6V6_eCd"
      },
      "source": [
        "def reverse_str(string1):\n",
        "#code to reverse the string using stack and linked list\n",
        "  stack1=Stack()\n",
        "\n",
        "  for i in string1:\n",
        "    stack1.push(i)\n",
        "  res=\"\"\n",
        "  #while not stack1.isempty():\n",
        "    #res=res+stack1.pop()\n",
        "  return stack1.traverse()\n",
        "  print(res)\n"
      ],
      "execution_count": null,
      "outputs": []
    },
    {
      "cell_type": "code",
      "metadata": {
        "colab": {
          "base_uri": "https://localhost:8080/"
        },
        "id": "uArtVKrBDOk9",
        "outputId": "2bc325a1-6283-4b7a-c325-876caaea2193"
      },
      "source": [
        "reverse_str(\"haldia\")"
      ],
      "execution_count": null,
      "outputs": [
        {
          "output_type": "stream",
          "text": [
            "a i d l a h "
          ],
          "name": "stdout"
        }
      ]
    },
    {
      "cell_type": "code",
      "metadata": {
        "id": "pb7q9oUPGKA-"
      },
      "source": [
        "def text_editor(string1,sequence):\n",
        "  #edit the text a/q to given sequence\n",
        "  stack1=Stack()\n",
        "  stack2=Stack()\n",
        "  res=\"\"\n",
        "\n",
        "  for i in string1:\n",
        "    stack1.push(i)\n",
        "\n",
        "  for i in sequence:\n",
        "    if i == \"u\":\n",
        "      data=stack1.pop()\n",
        "      stack2.push(data)\n",
        "\n",
        "    elif i == \"r\":\n",
        "      data1=stack2.pop()\n",
        "      stack1.push(data1)\n",
        "\n",
        "  while not stack1.isempty():\n",
        "    res=stack1.pop()+res\n",
        "\n",
        "  return res\n",
        "\n",
        "\n"
      ],
      "execution_count": null,
      "outputs": []
    },
    {
      "cell_type": "code",
      "metadata": {
        "colab": {
          "base_uri": "https://localhost:8080/",
          "height": 37
        },
        "id": "4xL76mw_JIfK",
        "outputId": "f8099dee-b42e-4831-dcb2-6d70cfe1e214"
      },
      "source": [
        "text_editor(\"rama\",\"uurr\")"
      ],
      "execution_count": null,
      "outputs": [
        {
          "output_type": "execute_result",
          "data": {
            "application/vnd.google.colaboratory.intrinsic+json": {
              "type": "string"
            },
            "text/plain": [
              "'rama'"
            ]
          },
          "metadata": {
            "tags": []
          },
          "execution_count": 39
        }
      ]
    },
    {
      "cell_type": "code",
      "metadata": {
        "id": "t1DHr_ezPA0F"
      },
      "source": [
        "def balnce_bracket(expression):\n",
        "  #we have a exp. and check the bracket are mathemarical correct or not\n",
        "  stack1=Stack()\n",
        "  for i in expression:\n",
        "    #push all the opening bracket in stack\n",
        "    if i == \"(\" or i == \"{\" or i == \"[\":\n",
        "      stack1.push(i)\n",
        "    #now check for closing bracket if present corresponding opening then pop\n",
        "    elif i==\")\":\n",
        "      #also check for stack is empty or not\n",
        "      if stack1.isempty():\n",
        "        return False\n",
        "      if stack1.peek()==\"(\":\n",
        "        stack1.pop()\n",
        "    elif i == \"}\":\n",
        "      if stack1.isempty():\n",
        "        return False\n",
        "      if stack1.peek()==\"{\":\n",
        "        stack1.pop()\n",
        "    elif i == \"]\":\n",
        "      if stack1.isempty():\n",
        "        return False\n",
        "      if stack1.peek()==\"[\":\n",
        "        stack1.pop()\n",
        "\n",
        "  if stack1.isempty() :\n",
        "    return True\n",
        "  return False\n"
      ],
      "execution_count": 89,
      "outputs": []
    },
    {
      "cell_type": "code",
      "metadata": {
        "colab": {
          "base_uri": "https://localhost:8080/"
        },
        "id": "ee9zo0twQ0Fy",
        "outputId": "323a8af7-5b45-4622-80f8-85ba44ba2da7"
      },
      "source": [
        "balnce_bracket(\"{[(a)+[h]]}\")"
      ],
      "execution_count": 91,
      "outputs": [
        {
          "output_type": "execute_result",
          "data": {
            "text/plain": [
              "True"
            ]
          },
          "metadata": {
            "tags": []
          },
          "execution_count": 91
        }
      ]
    },
    {
      "cell_type": "code",
      "metadata": {
        "id": "r47DWSCJoB0F"
      },
      "source": [
        "l=[\n",
        "   [0,1,1,1],\n",
        "   [0,0,1,1],\n",
        "   [1,0,0,1],\n",
        "   [1,0,0,0]\n",
        "]\n",
        "def celebrity(l):\n",
        "  s=Stack()\n",
        "  for i in range(len(l)):\n",
        "    s.push(i)\n",
        "\n",
        "  while s.size()>=2:\n",
        "    a=s.pop()\n",
        "    b=s.pop()\n",
        "    if l[a][b]==0:\n",
        "      s.push(a)\n",
        "    else:\n",
        "      s.push(a)\n",
        "\n",
        "  #here we have to apply check condtion that celeb is true or not\n",
        "  celeb=s.pop()\n",
        "  for i in range(len(l)):\n",
        "    if i!=celeb:\n",
        "      if l[i][celeb]==0 or l[celeb][i]==1:\n",
        "        print (\"no celebrity\")\n",
        "        return\n",
        "  print(\"the ceebrity is \",celeb )  \n",
        "    \n",
        "\n"
      ],
      "execution_count": 103,
      "outputs": []
    },
    {
      "cell_type": "code",
      "metadata": {
        "colab": {
          "base_uri": "https://localhost:8080/"
        },
        "id": "zsLXzaTdqBCL",
        "outputId": "179c2cdb-6b42-4d8e-98b6-7fe2bed8de43"
      },
      "source": [
        "celebrity(l)"
      ],
      "execution_count": 104,
      "outputs": [
        {
          "output_type": "stream",
          "text": [
            "no celebrity\n"
          ],
          "name": "stdout"
        }
      ]
    }
  ]
}