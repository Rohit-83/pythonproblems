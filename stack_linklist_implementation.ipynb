{
  "nbformat": 4,
  "nbformat_minor": 0,
  "metadata": {
    "colab": {
      "name": "stack-linklist-implementation.ipynb",
      "provenance": [],
      "collapsed_sections": [],
      "authorship_tag": "ABX9TyOz8lAxZsA8gUFtO5vXdIL8",
      "include_colab_link": true
    },
    "kernelspec": {
      "name": "python3",
      "display_name": "Python 3"
    }
  },
  "cells": [
    {
      "cell_type": "markdown",
      "metadata": {
        "id": "view-in-github",
        "colab_type": "text"
      },
      "source": [
        "<a href=\"https://colab.research.google.com/github/Rohit-83/pythonproblems/blob/main/stack_linklist_implementation.ipynb\" target=\"_parent\"><img src=\"https://colab.research.google.com/assets/colab-badge.svg\" alt=\"Open In Colab\"/></a>"
      ]
    },
    {
      "cell_type": "code",
      "metadata": {
        "id": "v4pPPhID5oRd"
      },
      "source": [
        "class Node:\n",
        "\n",
        "  def __init__(self,value):\n",
        "    self.data=value\n",
        "    self.address=None"
      ],
      "execution_count": 11,
      "outputs": []
    },
    {
      "cell_type": "code",
      "metadata": {
        "id": "9lEcvc0R6LLC"
      },
      "source": [
        "class Stack:\n",
        "\n",
        "  def __init__(self):\n",
        "    self.top=None \n",
        "\n",
        "  def isempty(self):\n",
        "    if self.top==None:\n",
        "      return True\n",
        "    return False\n",
        "\n",
        "  def push(self,value):\n",
        "    new_node=Node(value)\n",
        "    #we have to add new node by head insertion\n",
        "    new_node.address=self.top\n",
        "    self.top=new_node\n",
        "\n",
        "  def peek(self):\n",
        "    if self.isempty():\n",
        "      return \"empty\"\n",
        "    return self.top.data\n",
        "\n",
        "  def pop(self):\n",
        "    if self.isempty():\n",
        "      return \"empty\"\n",
        "    else:\n",
        "      #we have to change the address of head node\n",
        "      self.top=self.top.address\n",
        "\n",
        "  def traverse(self):\n",
        "    temp=self.top\n",
        "    while temp!=None:\n",
        "      print(temp.data,end=\" \")\n",
        "      temp=temp.address\n",
        "  #wap to determine size of stack\n",
        "  def size(self):\n",
        "    counter=0\n",
        "    temp=self.top\n",
        "    while temp!=None:\n",
        "      temp=temp.address\n",
        "      counter+=1\n",
        "    return counter\n",
        "\n",
        "\n",
        "\n"
      ],
      "execution_count": 53,
      "outputs": []
    },
    {
      "cell_type": "code",
      "metadata": {
        "id": "KILS3XNJ8cdt"
      },
      "source": [
        "s=Stack()"
      ],
      "execution_count": 54,
      "outputs": []
    },
    {
      "cell_type": "code",
      "metadata": {
        "colab": {
          "base_uri": "https://localhost:8080/"
        },
        "id": "ymeXrkxO8esy",
        "outputId": "8d7f2b2e-0369-4f7b-923d-a528bf25af63"
      },
      "source": [
        "s.isempty()"
      ],
      "execution_count": 30,
      "outputs": [
        {
          "output_type": "execute_result",
          "data": {
            "text/plain": [
              "False"
            ]
          },
          "metadata": {
            "tags": []
          },
          "execution_count": 30
        }
      ]
    },
    {
      "cell_type": "code",
      "metadata": {
        "id": "vPqMy-rf8lNP"
      },
      "source": [
        "s.push(3)\n",
        "s.push(4)\n",
        "s.push(6)"
      ],
      "execution_count": 55,
      "outputs": []
    },
    {
      "cell_type": "code",
      "metadata": {
        "colab": {
          "base_uri": "https://localhost:8080/"
        },
        "id": "6DAfpJZw8p1h",
        "outputId": "eb630dcb-37df-40ae-ad99-a67ecd8bfb9f"
      },
      "source": [
        "s.traverse()"
      ],
      "execution_count": 52,
      "outputs": [
        {
          "output_type": "stream",
          "text": [
            "4 3 "
          ],
          "name": "stdout"
        }
      ]
    },
    {
      "cell_type": "code",
      "metadata": {
        "colab": {
          "base_uri": "https://localhost:8080/"
        },
        "id": "e0HzEzSz9-0m",
        "outputId": "769b19b4-06a9-44db-9914-de126f4eae18"
      },
      "source": [
        "s.peek()"
      ],
      "execution_count": 50,
      "outputs": [
        {
          "output_type": "execute_result",
          "data": {
            "text/plain": [
              "6"
            ]
          },
          "metadata": {
            "tags": []
          },
          "execution_count": 50
        }
      ]
    },
    {
      "cell_type": "code",
      "metadata": {
        "colab": {
          "base_uri": "https://localhost:8080/"
        },
        "id": "kev3a6V6_eCd",
        "outputId": "508cec23-9ed7-4326-9793-1682998b58ba"
      },
      "source": [
        "s.size()"
      ],
      "execution_count": 56,
      "outputs": [
        {
          "output_type": "execute_result",
          "data": {
            "text/plain": [
              "3"
            ]
          },
          "metadata": {
            "tags": []
          },
          "execution_count": 56
        }
      ]
    }
  ]
}