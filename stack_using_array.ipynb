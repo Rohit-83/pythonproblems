{
  "nbformat": 4,
  "nbformat_minor": 0,
  "metadata": {
    "colab": {
      "name": "stack-using-array.ipynb",
      "provenance": [],
      "authorship_tag": "ABX9TyO19DXIVtVlZ0B8K3ePKdbB",
      "include_colab_link": true
    },
    "kernelspec": {
      "name": "python3",
      "display_name": "Python 3"
    }
  },
  "cells": [
    {
      "cell_type": "markdown",
      "metadata": {
        "id": "view-in-github",
        "colab_type": "text"
      },
      "source": [
        "<a href=\"https://colab.research.google.com/github/Rohit-83/pythonproblems/blob/main/stack_using_array.ipynb\" target=\"_parent\"><img src=\"https://colab.research.google.com/assets/colab-badge.svg\" alt=\"Open In Colab\"/></a>"
      ]
    },
    {
      "cell_type": "code",
      "metadata": {
        "id": "xsnuwgDWt7bE"
      },
      "source": [
        "class Stack():\n",
        "\n",
        "  def __init__(self,size):\n",
        "    self.__size=size\n",
        "    self.stackarray=[None]*self.__size\n",
        "    #we have to manipulate top for insertion or deletion\n",
        "    self.top=-1\n",
        "\n",
        "  def push(self,value):\n",
        "    if self.top == self.__size-1:\n",
        "      return \"overflow\"\n",
        "    else:\n",
        "      #for inserting increment the value of top\n",
        "      self.top=self.top+1\n",
        "      self.stackarray[self.top]=value\n",
        "\n",
        "  def pop(self):\n",
        "    if self.top==-1:\n",
        "      return \"empty\"\n",
        "    else:\n",
        "      #for deletion decrease the value of top\n",
        "      data = self.stackarray[self.top]\n",
        "      self.top-=1\n",
        "      print(data)\n",
        "\n",
        "  def size(self):\n",
        "    return self.top+1\n",
        "\n",
        "  def isempty(self):\n",
        "    return self.top==-1\n",
        "\n",
        "  def peek(self):\n",
        "    data = self.stackarray[self.top]\n",
        "    return data\n",
        "\n",
        "\n",
        "  def traverse(self):\n",
        "    for i in range(self.top+1):\n",
        "      print(self.stackarray[i],end=\" \")\n",
        "\n",
        "\n"
      ],
      "execution_count": 66,
      "outputs": []
    },
    {
      "cell_type": "code",
      "metadata": {
        "id": "u6IJnvTMuzsL"
      },
      "source": [
        "s=Stack(3)\n",
        "s.push(4)\n",
        "s.push(5)\n",
        "\n"
      ],
      "execution_count": 67,
      "outputs": []
    },
    {
      "cell_type": "code",
      "metadata": {
        "colab": {
          "base_uri": "https://localhost:8080/"
        },
        "id": "7P77zwbEyL-H",
        "outputId": "f7f8b812-2116-404b-e5ab-914e23e0c483"
      },
      "source": [
        "s.size()"
      ],
      "execution_count": 68,
      "outputs": [
        {
          "output_type": "execute_result",
          "data": {
            "text/plain": [
              "2"
            ]
          },
          "metadata": {
            "tags": []
          },
          "execution_count": 68
        }
      ]
    },
    {
      "cell_type": "code",
      "metadata": {
        "colab": {
          "base_uri": "https://localhost:8080/"
        },
        "id": "8q4ziUTJ0hfr",
        "outputId": "7205e873-635d-4efe-dbd9-60f507424194"
      },
      "source": [
        "s.traverse()"
      ],
      "execution_count": 69,
      "outputs": [
        {
          "output_type": "stream",
          "text": [
            "4 5 "
          ],
          "name": "stdout"
        }
      ]
    },
    {
      "cell_type": "code",
      "metadata": {
        "colab": {
          "base_uri": "https://localhost:8080/"
        },
        "id": "AC8ILE3v3dpt",
        "outputId": "4fe4b038-a38a-4008-8fa7-621c0e6944a8"
      },
      "source": [
        "s.isempty()"
      ],
      "execution_count": 71,
      "outputs": [
        {
          "output_type": "execute_result",
          "data": {
            "text/plain": [
              "False"
            ]
          },
          "metadata": {
            "tags": []
          },
          "execution_count": 71
        }
      ]
    },
    {
      "cell_type": "code",
      "metadata": {
        "colab": {
          "base_uri": "https://localhost:8080/"
        },
        "id": "F59hoQOe3iKi",
        "outputId": "8d0178c3-9397-471b-f4ea-35ecbdb75fcf"
      },
      "source": [
        "s.peek()"
      ],
      "execution_count": 72,
      "outputs": [
        {
          "output_type": "execute_result",
          "data": {
            "text/plain": [
              "5"
            ]
          },
          "metadata": {
            "tags": []
          },
          "execution_count": 72
        }
      ]
    }
  ]
}