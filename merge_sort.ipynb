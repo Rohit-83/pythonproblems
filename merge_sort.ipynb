{
  "nbformat": 4,
  "nbformat_minor": 0,
  "metadata": {
    "colab": {
      "name": "merge-sort.ipynb",
      "provenance": [],
      "authorship_tag": "ABX9TyNWg4Lnwersbx/Np8eFymJH",
      "include_colab_link": true
    },
    "kernelspec": {
      "name": "python3",
      "display_name": "Python 3"
    }
  },
  "cells": [
    {
      "cell_type": "markdown",
      "metadata": {
        "id": "view-in-github",
        "colab_type": "text"
      },
      "source": [
        "<a href=\"https://colab.research.google.com/github/Rohit-83/pythonproblems/blob/main/merge_sort.ipynb\" target=\"_parent\"><img src=\"https://colab.research.google.com/assets/colab-badge.svg\" alt=\"Open In Colab\"/></a>"
      ]
    },
    {
      "cell_type": "code",
      "metadata": {
        "id": "Jigsu0DdUMxk"
      },
      "source": [
        "#merge sort it follow divide and conquer it divide the array until the array reach last position\n",
        "#after dividiing we reach the pos where array has one length and one lenght array is always sorted \n",
        "#it follow recursion"
      ],
      "execution_count": 1,
      "outputs": []
    },
    {
      "cell_type": "code",
      "metadata": {
        "id": "FOXu176hVwfi"
      },
      "source": [
        "def merged_sorted(arr1,arr2):\n",
        "  #this function take two sorted array and merge the sorted by comaring both\n",
        "  merged = []\n",
        "  i=0\n",
        "  j=0\n",
        "  while i < len(arr1) and j < len(arr2):\n",
        "    if arr1[i]<arr2[j]:\n",
        "      merged.append(arr1[i])\n",
        "      i+=1\n",
        "    else:\n",
        "      merged.append(arr2[j])\n",
        "      j=j+1\n",
        "  \n",
        "  while i < len(arr1):#this include the remaining element\n",
        "    merged.append(arr1[i])\n",
        "    i=i+1\n",
        "  while j<len(arr2):#this include the remaining element\n",
        "    merged.append(arr2[j])\n",
        "    j=j+1\n",
        "  \n",
        "  return merged\n",
        "  "
      ],
      "execution_count": 32,
      "outputs": []
    },
    {
      "cell_type": "code",
      "metadata": {
        "colab": {
          "base_uri": "https://localhost:8080/"
        },
        "id": "hFM8ciArWmwe",
        "outputId": "8bc4285c-4e6a-49b7-a981-1ec87656c35e"
      },
      "source": [
        "arr1=[1,2,6,9]\n",
        "arr2=[3,4,7,10]\n",
        "print(merged_sort(arr1,arr2))"
      ],
      "execution_count": 31,
      "outputs": [
        {
          "output_type": "stream",
          "text": [
            "[1, 2, 3, 4, 6, 7, 9, 10]\n"
          ],
          "name": "stdout"
        }
      ]
    },
    {
      "cell_type": "code",
      "metadata": {
        "id": "3OAKYBDBeHs1"
      },
      "source": [
        "def merge_sort(arr):\n",
        "  if len(arr) == 1:\n",
        "    return arr\n",
        "  #if length of array is more than one then we calculate mid point to divide the array\n",
        "  mid = len(arr)//2\n",
        "\n",
        "  left=arr[:mid]\n",
        "  right = arr[mid:]\n",
        "\n",
        "  #this will again call merge sort and divide the array and again get left and right it return some value\n",
        "  #when length of array became 1\n",
        "  left = merge_sort(left)\n",
        "  right = merge_sort(right)\n",
        "\n",
        "  return merged_sorted(left,right)"
      ],
      "execution_count": 34,
      "outputs": []
    },
    {
      "cell_type": "code",
      "metadata": {
        "colab": {
          "base_uri": "https://localhost:8080/"
        },
        "id": "n5BI7GZtf0aW",
        "outputId": "3a9a0075-c089-46fe-ae72-939b35b3be9a"
      },
      "source": [
        "arr = [7,2,5,6,1]\n",
        "print(merge_sort(arr))"
      ],
      "execution_count": 35,
      "outputs": [
        {
          "output_type": "stream",
          "text": [
            "[1, 2, 5, 6, 7]\n"
          ],
          "name": "stdout"
        }
      ]
    }
  ]
}