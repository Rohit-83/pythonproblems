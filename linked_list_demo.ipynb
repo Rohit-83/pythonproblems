{
  "nbformat": 4,
  "nbformat_minor": 0,
  "metadata": {
    "colab": {
      "name": "linked-list-demo.ipynb",
      "provenance": [],
      "collapsed_sections": [],
      "authorship_tag": "ABX9TyOx7nEM3EdV8f/h7eS0y3G3",
      "include_colab_link": true
    },
    "kernelspec": {
      "name": "python3",
      "display_name": "Python 3"
    }
  },
  "cells": [
    {
      "cell_type": "markdown",
      "metadata": {
        "id": "view-in-github",
        "colab_type": "text"
      },
      "source": [
        "<a href=\"https://colab.research.google.com/github/Rohit-83/pythonproblems/blob/main/linked_list_demo.ipynb\" target=\"_parent\"><img src=\"https://colab.research.google.com/assets/colab-badge.svg\" alt=\"Open In Colab\"/></a>"
      ]
    },
    {
      "cell_type": "code",
      "metadata": {
        "id": "LNlPh-sdRccb"
      },
      "source": [
        "class Node:\n",
        "\n",
        "  def __init__ (self,value):\n",
        "    self.data=value\n",
        "    self.address= None"
      ],
      "execution_count": 7,
      "outputs": []
    },
    {
      "cell_type": "code",
      "metadata": {
        "id": "-jCOUZSuSRcS"
      },
      "source": [
        "a=Node(7)\n",
        "b=Node(6)\n",
        "c=Node(8)"
      ],
      "execution_count": 12,
      "outputs": []
    },
    {
      "cell_type": "code",
      "metadata": {
        "id": "CqnGYf6FSkh1"
      },
      "source": [
        "a.address=b\n",
        "b.address=c "
      ],
      "execution_count": 14,
      "outputs": []
    },
    {
      "cell_type": "code",
      "metadata": {
        "colab": {
          "base_uri": "https://localhost:8080/"
        },
        "id": "nEhRlwfyTaA4",
        "outputId": "c69e1470-0e88-4301-acca-44cc34758df7"
      },
      "source": [
        "print(b.address)"
      ],
      "execution_count": 18,
      "outputs": [
        {
          "output_type": "stream",
          "text": [
            "<__main__.Node object at 0x7f4534347c88>\n"
          ],
          "name": "stdout"
        }
      ]
    },
    {
      "cell_type": "code",
      "metadata": {
        "id": "gCovnywCUJiJ"
      },
      "source": [
        "class LinkList:\n",
        "\n",
        "  def __init__ (self):\n",
        "    self.head= None \n",
        "\n",
        "  def add(self,value):\n",
        "    #creat node with given value\n",
        "    new_node = Node(value)\n",
        "    #attach new node with head\n",
        "    new_node.address=self.head\n",
        "    #create new head\n",
        "    self.head= new_node\n",
        "\n",
        "  def traverse(self):\n",
        "\n",
        "    temp =self.head\n",
        "    #we have run to loop until whole node is covered\n",
        "    while temp!= None:\n",
        "      print(temp.data,end=\" \")\n",
        "      temp=temp.address\n",
        "\n",
        "  def add_tail(self,value):\n",
        "    if self.head == None:\n",
        "      new_node = Node(value)\n",
        "      self.head=new_node\n",
        "    #create new node\n",
        "    else:\n",
        "      new_node= Node(value)\n",
        "      #we have to store head in a variable\n",
        "      temp=self.head\n",
        "      #we have to run loop until it reaches final node \n",
        "      while temp.address!= None:\n",
        "        temp=temp.address\n",
        "\n",
        "      temp.address= new_node\n",
        "\n",
        "  def add_after(self,after,value):\n",
        "    new_node= Node(value)\n",
        "    temp=self.head\n",
        "    while temp!=None:\n",
        "      if temp.data==after:\n",
        "        break\n",
        "      temp=temp.address\n",
        "    if temp == None:\n",
        "      print(\"not found\")\n",
        "    else:\n",
        "      new_node.address=temp.address\n",
        "      temp.address=new_node  \n",
        "\n",
        "  def delete_tail(self):\n",
        "    if self.head==None:\n",
        "      print(\"empty\")\n",
        "    else:\n",
        "      temp=self.head\n",
        "      #if we have only one item then we will appoint head as none\n",
        "      if temp.address==None:\n",
        "        self.head=None\n",
        "        return \n",
        "      #if we have more than one node then we will traverse until\n",
        "      #second last node beacuse we have to create link with second last\n",
        "      #node to none for removal of last node\n",
        "      while temp.address.address!=None:\n",
        "        temp=temp.address\n",
        "      temp.address=None \n",
        "\n",
        "  def delete_head(self):\n",
        "    if self.head==None:\n",
        "      print(\"empty\")\n",
        "    else:\n",
        "      self.head=self.head.address \n",
        "\n",
        "  def remove(self,value):\n",
        "    if self.head.data==value:\n",
        "      self.delete_head()\n",
        "      return \n",
        "    if self.head==None:\n",
        "      return \"empty\"\n",
        "    else:\n",
        "      temp=self.head\n",
        "      while temp.address!=None:\n",
        "        if temp.address.data == value:\n",
        "          break \n",
        "        temp=temp.address\n",
        "      if temp.address==None:\n",
        "        return \"not found\"\n",
        "      else:\n",
        "        temp.address=temp.address.address\n",
        "\n",
        "  def find(self,value):\n",
        "    temp=self.head\n",
        "    counter=0\n",
        "    while temp!=None:\n",
        "      if temp.data==value:\n",
        "        return counter\n",
        "      counter+=1\n",
        "      temp=temp.address\n",
        "    return \"not found\"\n",
        "    \n",
        "        \n"
      ],
      "execution_count": 92,
      "outputs": []
    },
    {
      "cell_type": "code",
      "metadata": {
        "id": "cyVjq1fLXJIP"
      },
      "source": [
        "l=LinkList()"
      ],
      "execution_count": 93,
      "outputs": []
    },
    {
      "cell_type": "code",
      "metadata": {
        "id": "SKlJBPcwXRAa"
      },
      "source": [
        "l.add(4)\n",
        "l.add(5)\n",
        "l.add_tail(9)\n",
        "l.add_tail(10)"
      ],
      "execution_count": 94,
      "outputs": []
    },
    {
      "cell_type": "code",
      "metadata": {
        "colab": {
          "base_uri": "https://localhost:8080/"
        },
        "id": "MxAe8WA_XZYc",
        "outputId": "03c6d255-d15b-4530-cb50-42bfeef275e5"
      },
      "source": [
        "l.traverse()"
      ],
      "execution_count": 95,
      "outputs": [
        {
          "output_type": "stream",
          "text": [
            "5 4 9 10 "
          ],
          "name": "stdout"
        }
      ]
    },
    {
      "cell_type": "code",
      "metadata": {
        "colab": {
          "base_uri": "https://localhost:8080/"
        },
        "id": "r5unc_DXegNN",
        "outputId": "14f513e1-00ca-498d-e7f0-c111a7c6291c"
      },
      "source": [
        "l.find(4)"
      ],
      "execution_count": 96,
      "outputs": [
        {
          "output_type": "execute_result",
          "data": {
            "text/plain": [
              "1"
            ]
          },
          "metadata": {
            "tags": []
          },
          "execution_count": 96
        }
      ]
    }
  ]
}