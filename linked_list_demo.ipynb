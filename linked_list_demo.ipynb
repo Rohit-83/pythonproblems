{
  "nbformat": 4,
  "nbformat_minor": 0,
  "metadata": {
    "colab": {
      "name": "linked-list-demo.ipynb",
      "provenance": [],
      "collapsed_sections": [],
      "authorship_tag": "ABX9TyP9OpHnafXjnRk/86TKoQsg",
      "include_colab_link": true
    },
    "kernelspec": {
      "name": "python3",
      "display_name": "Python 3"
    }
  },
  "cells": [
    {
      "cell_type": "markdown",
      "metadata": {
        "id": "view-in-github",
        "colab_type": "text"
      },
      "source": [
        "<a href=\"https://colab.research.google.com/github/Rohit-83/pythonproblems/blob/main/linked_list_demo.ipynb\" target=\"_parent\"><img src=\"https://colab.research.google.com/assets/colab-badge.svg\" alt=\"Open In Colab\"/></a>"
      ]
    },
    {
      "cell_type": "code",
      "metadata": {
        "id": "LNlPh-sdRccb"
      },
      "source": [
        "class Node:\n",
        "\n",
        "  def __init__ (self,value):\n",
        "    self.data=value\n",
        "    self.address= None"
      ],
      "execution_count": 1,
      "outputs": []
    },
    {
      "cell_type": "code",
      "metadata": {
        "id": "-jCOUZSuSRcS"
      },
      "source": [
        "a=Node(7)\n",
        "b=Node(6)\n",
        "c=Node(8)"
      ],
      "execution_count": null,
      "outputs": []
    },
    {
      "cell_type": "code",
      "metadata": {
        "id": "CqnGYf6FSkh1"
      },
      "source": [
        "a.address=b\n",
        "b.address=c "
      ],
      "execution_count": null,
      "outputs": []
    },
    {
      "cell_type": "code",
      "metadata": {
        "colab": {
          "base_uri": "https://localhost:8080/"
        },
        "id": "nEhRlwfyTaA4",
        "outputId": "c69e1470-0e88-4301-acca-44cc34758df7"
      },
      "source": [
        "print(b.address)"
      ],
      "execution_count": null,
      "outputs": [
        {
          "output_type": "stream",
          "text": [
            "<__main__.Node object at 0x7f4534347c88>\n"
          ],
          "name": "stdout"
        }
      ]
    },
    {
      "cell_type": "code",
      "metadata": {
        "id": "gCovnywCUJiJ"
      },
      "source": [
        "class LinkList:\n",
        "\n",
        "  def __init__ (self):\n",
        "    self.head= None \n",
        "\n",
        "  def add(self,value):\n",
        "    #creat node with given value\n",
        "    new_node = Node(value)\n",
        "    #attach new node with head\n",
        "    new_node.address=self.head\n",
        "    #create new head\n",
        "    self.head= new_node\n",
        "\n",
        "  def traverse(self):\n",
        "\n",
        "    temp =self.head\n",
        "    #we have run to loop until whole node is covered\n",
        "    while temp!= None:\n",
        "      print(temp.data,end=\" \")\n",
        "      temp=temp.address\n",
        "\n",
        "  def add_tail(self,value):\n",
        "    if self.head == None:\n",
        "      new_node = Node(value)\n",
        "      self.head=new_node\n",
        "    #create new node\n",
        "    else:\n",
        "      new_node= Node(value)\n",
        "      #we have to store head in a variable\n",
        "      temp=self.head\n",
        "      #we have to run loop until it reaches final node \n",
        "      while temp.address!= None:\n",
        "        temp=temp.address\n",
        "\n",
        "      temp.address= new_node\n",
        "\n",
        "  def add_after(self,after,value):\n",
        "    new_node= Node(value)\n",
        "    temp=self.head\n",
        "    while temp!=None:\n",
        "      if temp.data==after:\n",
        "        break\n",
        "      temp=temp.address\n",
        "    if temp == None:\n",
        "      print(\"not found\")\n",
        "    else:\n",
        "      new_node.address=temp.address\n",
        "      temp.address=new_node  \n",
        "\n",
        "  def delete_tail(self):\n",
        "    if self.head==None:\n",
        "      print(\"empty\")\n",
        "    else:\n",
        "      temp=self.head\n",
        "      #if we have only one item then we will appoint head as none\n",
        "      if temp.address==None:\n",
        "        self.head=None\n",
        "        return \n",
        "      #if we have more than one node then we will traverse until\n",
        "      #second last node beacuse we have to create link with second last\n",
        "      #node to none for removal of last node\n",
        "      while temp.address.address!=None:\n",
        "        temp=temp.address\n",
        "      temp.address=None \n",
        "\n",
        "  def delete_head(self):\n",
        "    if self.head==None:\n",
        "      print(\"empty\")\n",
        "    else:\n",
        "      self.head=self.head.address \n",
        "\n",
        "  def remove(self,value):\n",
        "    if self.head.data==value:\n",
        "      self.delete_head()\n",
        "      return \n",
        "    if self.head==None:\n",
        "      return \"empty\"\n",
        "    else:\n",
        "      temp=self.head\n",
        "      while temp.address!=None:\n",
        "        if temp.address.data == value:\n",
        "          break \n",
        "        temp=temp.address\n",
        "      if temp.address==None:\n",
        "        return \"not found\"\n",
        "      else:\n",
        "        temp.address=temp.address.address\n",
        "\n",
        "  def find(self,value):\n",
        "    temp=self.head\n",
        "    counter=0\n",
        "    while temp!=None:\n",
        "      if temp.data==value:\n",
        "        return counter\n",
        "      counter+=1\n",
        "      temp=temp.address\n",
        "    return \"not found\"\n",
        "\n",
        "\n",
        "  #wap to replace maximum value form given value  \n",
        "  def replace_max(self,value):\n",
        "    temp=self.head\n",
        "    max = temp\n",
        "    while temp!=None:\n",
        "      if temp.data>max.data:\n",
        "        max=temp\n",
        "      temp=temp.address\n",
        "\n",
        "    max.data=value\n",
        "\n",
        "  #wap to sum the value at odd position\n",
        "  def odd_sum(self):\n",
        "    temp=self.head\n",
        "    counter=0\n",
        "    sum=0\n",
        "    while temp!=None:\n",
        "      if counter%2!=0:\n",
        "        sum=sum+temp.data\n",
        "      temp=temp.address\n",
        "      counter+=1\n",
        "\n",
        "    return sum\n",
        "\n",
        "  #wap to reverse the linked list\n",
        "  def reverse(self):\n",
        "    #create previous node which head node will refer\n",
        "    prev_node=None\n",
        "    curr_node=self.head\n",
        "\n",
        "    while curr_node!=None:\n",
        "      #first store next node in a variable bcz after changing address\n",
        "      #next node will not present thats why store it in a varible\n",
        "      next_node=curr_node.address\n",
        "      #change the address of current node to previos node\n",
        "      curr_node.address=prev_node\n",
        "      #now increment prev node and cuurent node\n",
        "      prev_node=curr_node\n",
        "      curr_node=next_node\n",
        "\n",
        "    self.head=prev_node\n",
        "        \n",
        "  #wap to create word decodere \n",
        "  def word_decoder(self):\n",
        "    temp=self.head\n",
        "    while temp!=None:\n",
        "      if temp.data==\"*\" or temp.data==\"/\":\n",
        "        temp.data=\" \"\n",
        "        if temp.address.data==\"*\" or temp.address.data==\"/\":\n",
        "          temp.address.address.data=temp.address.address.data.upper()\n",
        "          #we have to skip the data so if it occur twice\n",
        "          #ignore the second character\n",
        "          temp.address=temp.address.address\n",
        "      temp=temp.address\n",
        "\n",
        "  #remove duplicate data\n",
        "  def remove_duplicate(self):\n",
        "    prev_node=self.head \n",
        "    while prev_node.address!=None:\n",
        "      if prev_node.data==prev_node.address.data:\n",
        "        prev_node.address=prev_node.address.address\n",
        "      prev_node=prev_node.address\n",
        "\n"
      ],
      "execution_count": 67,
      "outputs": []
    },
    {
      "cell_type": "code",
      "metadata": {
        "id": "cyVjq1fLXJIP"
      },
      "source": [
        "word=LinkList()"
      ],
      "execution_count": 48,
      "outputs": []
    },
    {
      "cell_type": "code",
      "metadata": {
        "id": "SKlJBPcwXRAa"
      },
      "source": [
        "word.add(\"a\")\n",
        "word.add(\"b\")\n",
        "word.add(\"/\")\n",
        "word.add(\"*\")\n",
        "word.add(\"d\")\n",
        "word.add(\"A\")\n",
        "word.add(\"s\")\n",
        "word.add(\"/\")\n",
        "word.add(\"A\")"
      ],
      "execution_count": 49,
      "outputs": []
    },
    {
      "cell_type": "code",
      "metadata": {
        "colab": {
          "base_uri": "https://localhost:8080/"
        },
        "id": "MxAe8WA_XZYc",
        "outputId": "cdd7fb40-97d8-4472-99b7-9c7797631783"
      },
      "source": [
        "word.traverse()"
      ],
      "execution_count": 50,
      "outputs": [
        {
          "output_type": "stream",
          "text": [
            "A / s A d * / b a "
          ],
          "name": "stdout"
        }
      ]
    },
    {
      "cell_type": "code",
      "metadata": {
        "id": "r5unc_DXegNN"
      },
      "source": [
        "word.word_decoder()"
      ],
      "execution_count": 51,
      "outputs": []
    },
    {
      "cell_type": "code",
      "metadata": {
        "colab": {
          "base_uri": "https://localhost:8080/"
        },
        "id": "0TC4pSLwyyTV",
        "outputId": "da277325-f1ef-4274-836b-512c1c6f34dc"
      },
      "source": [
        "word.traverse()"
      ],
      "execution_count": 54,
      "outputs": [
        {
          "output_type": "stream",
          "text": [
            "A   s A d   B a "
          ],
          "name": "stdout"
        }
      ]
    },
    {
      "cell_type": "code",
      "metadata": {
        "id": "1dlFSUzZ3Fzp"
      },
      "source": [
        "l=LinkList()"
      ],
      "execution_count": 73,
      "outputs": []
    },
    {
      "cell_type": "code",
      "metadata": {
        "id": "llWfZtVQ3JmX"
      },
      "source": [
        "l.add(1)\n",
        "l.add(1)\n",
        "l.add(2)\n",
        "l.add(2)\n",
        "l.add(3)\n",
        "l.add(3)\n",
        "l.add_tail(3)\n",
        "l.add_tail(4)\n",
        "l.add_tail(5)"
      ],
      "execution_count": 74,
      "outputs": []
    },
    {
      "cell_type": "code",
      "metadata": {
        "colab": {
          "base_uri": "https://localhost:8080/"
        },
        "id": "-rfq3K7u3Uhe",
        "outputId": "a8d1d73b-b8c0-4e38-e449-4c6bd1796fd6"
      },
      "source": [
        "l.traverse()"
      ],
      "execution_count": 75,
      "outputs": [
        {
          "output_type": "stream",
          "text": [
            "3 3 2 2 1 1 3 4 5 "
          ],
          "name": "stdout"
        }
      ]
    },
    {
      "cell_type": "code",
      "metadata": {
        "id": "cayD_gJS3bvP"
      },
      "source": [
        "l.remove_duplicate()"
      ],
      "execution_count": 76,
      "outputs": []
    },
    {
      "cell_type": "code",
      "metadata": {
        "colab": {
          "base_uri": "https://localhost:8080/"
        },
        "id": "r_sju6fO3f6D",
        "outputId": "ec78e602-549f-4862-8144-1df5966b47fa"
      },
      "source": [
        "l.traverse()"
      ],
      "execution_count": 77,
      "outputs": [
        {
          "output_type": "stream",
          "text": [
            "3 2 1 3 4 5 "
          ],
          "name": "stdout"
        }
      ]
    }
  ]
}