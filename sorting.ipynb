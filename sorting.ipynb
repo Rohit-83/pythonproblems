{
  "nbformat": 4,
  "nbformat_minor": 0,
  "metadata": {
    "colab": {
      "name": "sorting.ipynb",
      "provenance": [],
      "collapsed_sections": [],
      "authorship_tag": "ABX9TyN6BwcGy0yPP9FDX1ILk2EL",
      "include_colab_link": true
    },
    "kernelspec": {
      "name": "python3",
      "display_name": "Python 3"
    }
  },
  "cells": [
    {
      "cell_type": "markdown",
      "metadata": {
        "id": "view-in-github",
        "colab_type": "text"
      },
      "source": [
        "<a href=\"https://colab.research.google.com/github/Rohit-83/pythonproblems/blob/main/sorting.ipynb\" target=\"_parent\"><img src=\"https://colab.research.google.com/assets/colab-badge.svg\" alt=\"Open In Colab\"/></a>"
      ]
    },
    {
      "cell_type": "code",
      "metadata": {
        "id": "Rmu31VnPzmwR"
      },
      "source": [
        "#monkey sort\n",
        "#in this sort monkey have a collection of cards and monkey has given a task to sort the card\n",
        "#monkey is using the principal of randomness\n",
        "#time complexity --> infinte\n",
        "#bcz sorting can happen and can not also bcz it depend on the random value "
      ],
      "execution_count": null,
      "outputs": []
    },
    {
      "cell_type": "code",
      "metadata": {
        "id": "EejMvSa20MW0"
      },
      "source": [
        "import random\n",
        "import time\n",
        "def issorted(arr):\n",
        "  for i in range(len(arr)-1):\n",
        "    while arr[i]>arr[i+1]:\n",
        "      return False\n",
        "  return True\n",
        "def monkey_sort(arr):\n",
        "  random.shuffle(arr)\n",
        "  print(arr)\n",
        "  while not issorted(arr):\n",
        "    random.shuffle(arr)\n",
        "    print(arr)\n",
        "  if issorted(arr):\n",
        "    return True\n",
        "\n",
        "#its time complexity is infinite bcz it depend on random value (luck) it can happen it cannot\n",
        "#sleep sort time complexity--> it depend on the max value of item present in an array and total \n",
        "#time taken to sort the array"
      ],
      "execution_count": null,
      "outputs": []
    },
    {
      "cell_type": "code",
      "metadata": {
        "id": "h9Vl3dmF0stl"
      },
      "source": [
        "arr= [1,2,5,1,5]\n",
        "monkey_sort(arr)"
      ],
      "execution_count": null,
      "outputs": []
    },
    {
      "cell_type": "code",
      "metadata": {
        "colab": {
          "base_uri": "https://localhost:8080/"
        },
        "id": "VMARbU4QAkl9",
        "outputId": "8a1deb9a-746c-4d83-a30b-ce369cb6602f"
      },
      "source": [
        "#bubble sort time complexity-->o(N^2)\n",
        "#its space complexity is 1 bcz no extra variable is created all chanages happen in existance variable\n",
        "#this algorithm of bubble sort is not adaptive \n",
        "#bubble sort is stable\n",
        "\n",
        "\n",
        "arr =[12,3,4,5,1]\n",
        "for i in range(len(arr)-1):   #first we have to how many times we to run passes\n",
        "  for i in range(len(arr)-1-i):    # this for comparison in each pass\n",
        "    if arr[i]>arr[i+1]:\n",
        "      arr[i+1],arr[i]=arr[i],arr[i+1]\n",
        "\n",
        "print(arr)"
      ],
      "execution_count": null,
      "outputs": [
        {
          "output_type": "stream",
          "text": [
            "[1, 3, 4, 5, 12]\n"
          ],
          "name": "stdout"
        }
      ]
    },
    {
      "cell_type": "code",
      "metadata": {
        "id": "vN3tVu5AIpe_"
      },
      "source": [
        "#we can make bubble sort algorithm adaptive \n",
        "def bubble_sort(arr):\n",
        "  flag = True\n",
        "\n",
        "  for i in range(len(arr)-1):\n",
        "    for i in range(len(arr)-1-i):\n",
        "      if arr[i]>arr[i+1]:\n",
        "        flag = False\n",
        "        arr[i+1],arr[i]=arr[i],arr[i+1]\n",
        "\n",
        "    if flag == True:\n",
        "      break\n",
        "    #now here best case is o(N) bcz there is no swapping that's why flag value didn't change loop is breaked\n",
        "  return(arr)"
      ],
      "execution_count": null,
      "outputs": []
    },
    {
      "cell_type": "code",
      "metadata": {
        "colab": {
          "base_uri": "https://localhost:8080/"
        },
        "id": "Z-CX25GJJiwB",
        "outputId": "01fa68da-8783-4db6-d26b-6aaaf1b149fa"
      },
      "source": [
        "arr =[1,2,3,4]\n",
        "bubble_sort(arr)"
      ],
      "execution_count": null,
      "outputs": [
        {
          "output_type": "stream",
          "text": [
            "[1, 2, 3, 4]\n"
          ],
          "name": "stdout"
        }
      ]
    },
    {
      "cell_type": "code",
      "metadata": {
        "id": "31YzL3ksr78B"
      },
      "source": [
        "#selection sort --> in selection sort we fix the smallest element first. \n",
        "#we select one element as a mininum and comapre with all if some other item found minumum from that we swap at last.\n",
        "#time complexity-->O(N^2)\n",
        "#space complexity --> O(1)\n",
        "#it is not adaptive in nature\n",
        "#it is not stable in nature\n",
        "#if we compare bubble sort with selection sort the selction sort is faster because swapping happen less in selection sort.\n",
        "\n",
        "\n",
        "def selection_sort(arr):\n",
        "  for i in range(len(arr)-1): #this loop for passes, in every pass value of min is differant\n",
        "    min = i\n",
        "    for j in range(i+1,len(arr)):\n",
        "      if arr[min]>arr[j]:\n",
        "        min = j\n",
        "    arr[i],arr[min]=arr[min],arr[i] #swapping with minnimunm value\n",
        "\n",
        "  return(arr)\n"
      ],
      "execution_count": null,
      "outputs": []
    },
    {
      "cell_type": "code",
      "metadata": {
        "colab": {
          "base_uri": "https://localhost:8080/"
        },
        "id": "zmK6PQIYv6ja",
        "outputId": "267c42e1-83b4-4c98-9373-1df7665c959f"
      },
      "source": [
        "arr = [4,1,2,6,2]\n",
        "selection_sort(arr)"
      ],
      "execution_count": null,
      "outputs": [
        {
          "output_type": "stream",
          "text": [
            "[1, 2, 2, 4, 6]\n"
          ],
          "name": "stdout"
        }
      ]
    },
    {
      "cell_type": "code",
      "metadata": {
        "id": "aBHGrAbLxPCn"
      },
      "source": [
        "#comparing bubble sort and selection sort by adding time module for same length of array\n",
        "#selection sort take less time"
      ],
      "execution_count": null,
      "outputs": []
    },
    {
      "cell_type": "code",
      "metadata": {
        "id": "OsE9_2W4xajj"
      },
      "source": [
        "import time\n",
        "import random \n",
        "\n",
        "l=[]\n",
        "for i in range(10000):\n",
        "  l.append(random.randint(1,1000))\n",
        "\n",
        "l1=l[:] #cloning of list\n",
        "\n",
        "start1=time.time()\n",
        "bubble_sort(l)\n",
        "print(\"time taken\",time.time()-start1,\"sec\")\n",
        "\n",
        "start2=time.time()\n",
        "selection_sort(l1)\n",
        "print(\"time taken\",time.time()-start2,\"sec\")\n",
        "\n",
        "\n"
      ],
      "execution_count": null,
      "outputs": []
    },
    {
      "cell_type": "code",
      "metadata": {
        "id": "aVY42Mt3zPRO"
      },
      "source": [
        ""
      ],
      "execution_count": null,
      "outputs": []
    }
  ]
}