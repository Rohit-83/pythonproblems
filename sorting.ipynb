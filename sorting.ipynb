{
  "nbformat": 4,
  "nbformat_minor": 0,
  "metadata": {
    "colab": {
      "name": "sorting.ipynb",
      "provenance": [],
      "collapsed_sections": [],
      "authorship_tag": "ABX9TyN50PvB8xdzHz5MgC4TxJID",
      "include_colab_link": true
    },
    "kernelspec": {
      "name": "python3",
      "display_name": "Python 3"
    }
  },
  "cells": [
    {
      "cell_type": "markdown",
      "metadata": {
        "id": "view-in-github",
        "colab_type": "text"
      },
      "source": [
        "<a href=\"https://colab.research.google.com/github/Rohit-83/pythonproblems/blob/main/sorting.ipynb\" target=\"_parent\"><img src=\"https://colab.research.google.com/assets/colab-badge.svg\" alt=\"Open In Colab\"/></a>"
      ]
    },
    {
      "cell_type": "code",
      "metadata": {
        "id": "Rmu31VnPzmwR"
      },
      "source": [
        "#monkey sort\n",
        "#in this sort monkey have a collection of cards and monkey has given a task to sort the card\n",
        "#monkey is using the principal of randomness\n",
        "#time complexity --> infinte\n",
        "#bcz sorting can happen and can not also bcz it depend on the random value "
      ],
      "execution_count": null,
      "outputs": []
    },
    {
      "cell_type": "code",
      "metadata": {
        "id": "EejMvSa20MW0"
      },
      "source": [
        "import random\n",
        "import time\n",
        "def issorted(arr):\n",
        "  for i in range(len(arr)-1):\n",
        "    while arr[i]>arr[i+1]:\n",
        "      return False\n",
        "  return True\n",
        "def monkey_sort(arr):\n",
        "  random.shuffle(arr)\n",
        "  print(arr)\n",
        "  while not issorted(arr):\n",
        "    random.shuffle(arr)\n",
        "    print(arr)\n",
        "  if issorted(arr):\n",
        "    return True\n",
        "\n",
        "#its time complexity is infinite bcz it depend on random value (luck) it can happen it cannot\n",
        "#sleep sort time complexity--> it depend on the max value of item present in an array and total \n",
        "#time taken to sort the array"
      ],
      "execution_count": 2,
      "outputs": []
    },
    {
      "cell_type": "code",
      "metadata": {
        "id": "h9Vl3dmF0stl"
      },
      "source": [
        "arr= [1,2,5,1,5]\n",
        "monkey_sort(arr)"
      ],
      "execution_count": null,
      "outputs": []
    },
    {
      "cell_type": "code",
      "metadata": {
        "colab": {
          "base_uri": "https://localhost:8080/"
        },
        "id": "VMARbU4QAkl9",
        "outputId": "8a1deb9a-746c-4d83-a30b-ce369cb6602f"
      },
      "source": [
        "#bubble sort time complexity-->o(N^2)\n",
        "#its space complexity is 1 bcz no extra variable is created all chanages happen in existance variable\n",
        "#this algorithm of bubble sort is not adaptive \n",
        "#bubble sort is stable\n",
        "\n",
        "\n",
        "arr =[12,3,4,5,1]\n",
        "for i in range(len(arr)-1):   #first we have to how many times we to run passes\n",
        "  for i in range(len(arr)-1-i):    # this for comparison in each pass\n",
        "    if arr[i]>arr[i+1]:\n",
        "      arr[i+1],arr[i]=arr[i],arr[i+1]\n",
        "\n",
        "print(arr)"
      ],
      "execution_count": 7,
      "outputs": [
        {
          "output_type": "stream",
          "text": [
            "[1, 3, 4, 5, 12]\n"
          ],
          "name": "stdout"
        }
      ]
    },
    {
      "cell_type": "code",
      "metadata": {
        "id": "vN3tVu5AIpe_"
      },
      "source": [
        "#we can make bubble sort algorithm adaptive \n",
        "def bubble_sort(arr):\n",
        "  flag = True\n",
        "\n",
        "  for i in range(len(arr)-1):\n",
        "    for i in range(len(arr)-1-i):\n",
        "      if arr[i]>arr[i+1]:\n",
        "        flag = False\n",
        "        arr[i+1],arr[i]=arr[i],arr[i+1]\n",
        "\n",
        "    if flag == True:\n",
        "      break\n",
        "    #now here best case is o(N) bcz there is no swapping that's why flag value didn't change loop is breaked\n",
        "  print(arr)"
      ],
      "execution_count": 12,
      "outputs": []
    },
    {
      "cell_type": "code",
      "metadata": {
        "colab": {
          "base_uri": "https://localhost:8080/"
        },
        "id": "Z-CX25GJJiwB",
        "outputId": "c75e6a6c-a7cf-47c5-c446-f08d8592099a"
      },
      "source": [
        "arr =[1,2,3,4]\n",
        "bubble_sort(arr)"
      ],
      "execution_count": 14,
      "outputs": [
        {
          "output_type": "stream",
          "text": [
            "[1, 2, 3, 4]\n"
          ],
          "name": "stdout"
        }
      ]
    }
  ]
}