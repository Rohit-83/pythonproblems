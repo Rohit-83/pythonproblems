{
  "nbformat": 4,
  "nbformat_minor": 0,
  "metadata": {
    "colab": {
      "name": "hashing-chaining.ipynb",
      "provenance": [],
      "collapsed_sections": [],
      "authorship_tag": "ABX9TyNrbz4OEfXoAbIcmhFw/hh0",
      "include_colab_link": true
    },
    "kernelspec": {
      "name": "python3",
      "display_name": "Python 3"
    }
  },
  "cells": [
    {
      "cell_type": "markdown",
      "metadata": {
        "id": "view-in-github",
        "colab_type": "text"
      },
      "source": [
        "<a href=\"https://colab.research.google.com/github/Rohit-83/pythonproblems/blob/main/hashing_chaining.ipynb\" target=\"_parent\"><img src=\"https://colab.research.google.com/assets/colab-badge.svg\" alt=\"Open In Colab\"/></a>"
      ]
    },
    {
      "cell_type": "code",
      "metadata": {
        "id": "jxMFGkzQ2Tbr"
      },
      "source": [
        "class Node:\n",
        "  #this node contain three argument and three instance variable\n",
        "  def __init__(self,key,value):\n",
        "    self.key=key\n",
        "    self.value=value\n",
        "    self.address=None"
      ],
      "execution_count": 1,
      "outputs": []
    },
    {
      "cell_type": "code",
      "metadata": {
        "id": "qgK2PQYoItxX"
      },
      "source": [
        "class LinkList:\n",
        "  def __init__(self):\n",
        "    self.head=None \n",
        "\n",
        "  def add(self,key,value):\n",
        "    new_node=Node(key,value)\n",
        "    if self.head == None:\n",
        "      self.head=new_node\n",
        "    else:\n",
        "      #we have to add on tail\n",
        "      temp=self.head\n",
        "      while temp.address!=None:\n",
        "        temp=temp.address\n",
        "      temp.address = new_node\n",
        "  def remove(self,key):\n",
        "    temp=self.head\n",
        "    if self.head.key == key:\n",
        "      self.head = temp.address\n",
        "      return\n",
        "    \n",
        "    elif self.head == None:\n",
        "      return \"empty\"\n",
        "\n",
        "    else:\n",
        "      while temp.address!=None:\n",
        "        if temp.address.key == key:\n",
        "          break\n",
        "        temp=temp.address\n",
        "        if temp.address == None:\n",
        "          return \"not found\"\n",
        "\n",
        "        elif temp.address.key == key:\n",
        "          temp.address=temp.address.address\n",
        "  def traverse(self):\n",
        "    temp=self.head\n",
        "    while temp!=None:\n",
        "      print(temp.key,\":\",temp.value,end=\" \")\n",
        "      temp=temp.address\n",
        "\n",
        "  def search(self,key):\n",
        "    temp = self.head\n",
        "    pos=0\n",
        "    while temp!=None:\n",
        "      if temp.key == key:\n",
        "        return pos\n",
        "      pos+=1\n",
        "      temp=temp.address\n",
        "    return -1\n",
        "\n",
        "  def get_node_at_index(self,index):\n",
        "    temp=self.head\n",
        "    counter=0\n",
        "    while temp!=None:\n",
        "      if counter == index:\n",
        "        return temp\n",
        "      temp=temp.address\n",
        "      counter+=1\n",
        "\n",
        "  def size(self):\n",
        "\n",
        "    temp=self.head\n",
        "    counter=0\n",
        "    while temp!=None:\n",
        "      counter+=1\n",
        "      temp=temp.address\n",
        "    return counter\n",
        "\n",
        "\n",
        "\n"
      ],
      "execution_count": 17,
      "outputs": []
    },
    {
      "cell_type": "code",
      "metadata": {
        "id": "uoHswr6gPql4"
      },
      "source": [
        "class Dictionary:\n",
        "\n",
        "  def __init__(self,capacity):\n",
        "    #capacity means how long we have to create arrary\n",
        "    self.capacity = capacity\n",
        "    self.size = 0\n",
        "    #size shows how many elements in dictionary\n",
        "    #create array of link list \n",
        "    self.buckets = self.make_array(capacity)\n",
        "    #buckets is a group of bucket\n",
        "    #bucket means link list which is present in element of array\n",
        "\n",
        "  def make_array(self,capacity):\n",
        "    l=[]\n",
        "    for i in range(capacity):\n",
        "      l.append(LinkList())\n",
        "      #in every item one link list object is created of differant address\n",
        "      #l=(LinkList())*capacity it also create same thing but adreess here is same for all link list\n",
        "    return l\n",
        "  \n",
        "  def put(self,key,value):\n",
        "    #first we have to calculate hash value\n",
        "    bucket_index=self.hash_function(key)\n",
        "    node_index=self.get_node_index(bucket_index,key)\n",
        "    if node_index == -1:\n",
        "      #insert\n",
        "      self.buckets[bucket_index].add(key,value)\n",
        "      self.size+=1\n",
        "      #when we add new node we have to increase the size\n",
        "      #here we check the load factor\n",
        "      print(self.size/self.capacity)\n",
        "      if (self.size/self.capacity>=2):\n",
        "        self.rehash()\n",
        "\n",
        "    else:\n",
        "      #update\n",
        "      node=self.buckets[bucket_index].get_node_at_index(node_index)\n",
        "      node.value=value\n",
        "\n",
        "  def __setitem__(self,key,value):\n",
        "    #set item does not return any value\n",
        "    self.put(key,value)\n",
        "\n",
        "  def __getitem__ (self,key):\n",
        "    return self.get(key)\n",
        "\n",
        "  def get(self,key):\n",
        "    bucket_index = self.hash_function(key)\n",
        "    pos = self.buckets[bucket_index].search(key)\n",
        "    if pos == -1:\n",
        "      return \"not found\"\n",
        "    else:\n",
        "      node = self.buckets[bucket_index].get_node_at_index(pos)\n",
        "      return node.value\n",
        "\n",
        "  def __delitem__(self,key):\n",
        "    bucket_index= self.hash_function(key)\n",
        "    self.buckets[bucket_index].remove(key)\n",
        "    self.size = self.size-1\n",
        "\n",
        "  def __str__(self):\n",
        "    for i in range(len(self.buckets)-1):\n",
        "      bucket_index=self.buckets[i]\n",
        "      bucket_index.traverse()\n",
        "      #string function has to alwaays return something\n",
        "    return \"\"\n",
        "  \n",
        "      \n",
        "\n",
        "  def rehash(self):\n",
        "    self.capacity=self.capacity*2\n",
        "    old_buckets=self.buckets\n",
        "    self.size=0\n",
        "    #bcz we have to again insert the element \n",
        "    self.buckets=self.make_array(self.capacity)\n",
        "    for i in old_buckets:\n",
        "      for j in range(i.size()):\n",
        "        node=i.get_node_at_index(j)\n",
        "        key_item=node.key\n",
        "        value_item=node.value\n",
        "\n",
        "        self.put(key_item,value_item)\n",
        "\n",
        "\n",
        "\n",
        "\n",
        "\n",
        "  def get_node_index(self,bucket_index,key):\n",
        "    node_index = self.buckets[bucket_index].search(key)\n",
        "    return node_index\n",
        "\n",
        "\n",
        "  def hash_function(self,key):\n",
        "    return abs(hash(key))%self.capacity\n"
      ],
      "execution_count": 84,
      "outputs": []
    },
    {
      "cell_type": "code",
      "metadata": {
        "id": "of6RVo9pX_LN"
      },
      "source": [
        "d1=Dictionary(2)"
      ],
      "execution_count": 85,
      "outputs": []
    },
    {
      "cell_type": "code",
      "metadata": {
        "colab": {
          "base_uri": "https://localhost:8080/"
        },
        "id": "Urod7bZeYEMN",
        "outputId": "1026e7ea-90c4-4b67-9e2b-cd126ec97f14"
      },
      "source": [
        "d1.put(\"r\",\"rm\")"
      ],
      "execution_count": 86,
      "outputs": [
        {
          "output_type": "stream",
          "text": [
            "0.5\n"
          ],
          "name": "stdout"
        }
      ]
    },
    {
      "cell_type": "code",
      "metadata": {
        "colab": {
          "base_uri": "https://localhost:8080/"
        },
        "id": "w-D7KLeqhAZv",
        "outputId": "071a7c6e-233c-4a51-dd49-6f405d7e610a"
      },
      "source": [
        "d1.put(\"a\",\"as\")"
      ],
      "execution_count": 87,
      "outputs": [
        {
          "output_type": "stream",
          "text": [
            "1.0\n"
          ],
          "name": "stdout"
        }
      ]
    },
    {
      "cell_type": "code",
      "metadata": {
        "colab": {
          "base_uri": "https://localhost:8080/"
        },
        "id": "0Enxe0PrhDMA",
        "outputId": "fbcf1ea5-43e4-4c6e-b2fd-b34222e53722"
      },
      "source": [
        "d1.put(\"b\",\"we\")"
      ],
      "execution_count": 77,
      "outputs": [
        {
          "output_type": "stream",
          "text": [
            "2.0\n",
            "0.25\n",
            "0.5\n",
            "0.75\n",
            "1.0\n"
          ],
          "name": "stdout"
        }
      ]
    },
    {
      "cell_type": "code",
      "metadata": {
        "colab": {
          "base_uri": "https://localhost:8080/"
        },
        "id": "kChhylsthGe1",
        "outputId": "0919dbd4-0edc-4d5a-acb9-06bdf04e99f0"
      },
      "source": [
        "d1.put(\"v\",\"ram\")"
      ],
      "execution_count": 76,
      "outputs": [
        {
          "output_type": "stream",
          "text": [
            "1.5\n"
          ],
          "name": "stdout"
        }
      ]
    },
    {
      "cell_type": "code",
      "metadata": {
        "colab": {
          "base_uri": "https://localhost:8080/"
        },
        "id": "XBgNp2SDhKGD",
        "outputId": "6ef2ba02-c8ef-4faa-a7f0-2602ae7707e7"
      },
      "source": [
        "d1.size"
      ],
      "execution_count": 56,
      "outputs": [
        {
          "output_type": "execute_result",
          "data": {
            "text/plain": [
              "4"
            ]
          },
          "metadata": {
            "tags": []
          },
          "execution_count": 56
        }
      ]
    },
    {
      "cell_type": "code",
      "metadata": {
        "colab": {
          "base_uri": "https://localhost:8080/",
          "height": 37
        },
        "id": "zz334s1HhajW",
        "outputId": "4d5059f4-1d10-4db4-fede-4a98e569709b"
      },
      "source": [
        "d1[\"b\"]"
      ],
      "execution_count": 42,
      "outputs": [
        {
          "output_type": "execute_result",
          "data": {
            "application/vnd.google.colaboratory.intrinsic+json": {
              "type": "string"
            },
            "text/plain": [
              "'not found'"
            ]
          },
          "metadata": {
            "tags": []
          },
          "execution_count": 42
        }
      ]
    },
    {
      "cell_type": "code",
      "metadata": {
        "id": "rp7JeU16hceX",
        "colab": {
          "base_uri": "https://localhost:8080/"
        },
        "outputId": "33b7c804-754c-4e38-fa68-ad20c198a5c6"
      },
      "source": [
        "print(d1)"
      ],
      "execution_count": 88,
      "outputs": [
        {
          "output_type": "stream",
          "text": [
            "r : rm a : as \n"
          ],
          "name": "stdout"
        }
      ]
    }
  ]
}