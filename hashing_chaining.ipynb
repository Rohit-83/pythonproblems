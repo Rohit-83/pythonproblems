{
  "nbformat": 4,
  "nbformat_minor": 0,
  "metadata": {
    "colab": {
      "name": "hashing-chaining.ipynb",
      "provenance": [],
      "authorship_tag": "ABX9TyPQoNvEVtFPKeH0bde37Qxk",
      "include_colab_link": true
    },
    "kernelspec": {
      "name": "python3",
      "display_name": "Python 3"
    }
  },
  "cells": [
    {
      "cell_type": "markdown",
      "metadata": {
        "id": "view-in-github",
        "colab_type": "text"
      },
      "source": [
        "<a href=\"https://colab.research.google.com/github/Rohit-83/pythonproblems/blob/main/hashing_chaining.ipynb\" target=\"_parent\"><img src=\"https://colab.research.google.com/assets/colab-badge.svg\" alt=\"Open In Colab\"/></a>"
      ]
    },
    {
      "cell_type": "code",
      "metadata": {
        "id": "jxMFGkzQ2Tbr"
      },
      "source": [
        "class Node:\n",
        "  #this node contain three argument and three instance variable\n",
        "  def __init__(self,key,value):\n",
        "    self.key=key\n",
        "    self.value=value\n",
        "    self.address=None"
      ],
      "execution_count": 3,
      "outputs": []
    },
    {
      "cell_type": "code",
      "metadata": {
        "id": "qgK2PQYoItxX"
      },
      "source": [
        "class LinkList:\n",
        "  def __init__(self):\n",
        "    self.head=None \n",
        "\n",
        "  def add(self,key,value):\n",
        "    new_node=Node(key,value)\n",
        "    if self.head == None:\n",
        "      self.head=new_node\n",
        "    else:\n",
        "      #we have to add on tail\n",
        "      temp=self.head\n",
        "      while temp.address!=None:\n",
        "        temp=temp.address\n",
        "      temp.address = new_node\n",
        "  def remove(self,key):\n",
        "    temp=self.head\n",
        "    if self.head.key == key:\n",
        "      self.head = temp.address\n",
        "      return\n",
        "    \n",
        "    elif self.head == None:\n",
        "      return \"empty\"\n",
        "\n",
        "    else:\n",
        "      while temp.address!=None:\n",
        "        if temp.address.key == key:\n",
        "          break\n",
        "        temp=temp.address\n",
        "        if temp.next == None:\n",
        "          return \"not found\"\n",
        "\n",
        "        elif temp.address.key == key:\n",
        "          temp.address=temp.address.address\n",
        "  def traverse(self):\n",
        "    temp=self.head\n",
        "    while temp!=None:\n",
        "      print(temp.key,\":\",temp.value,end=\" \")\n",
        "      temp=temp.address\n",
        "\n",
        "  def search(self,key):\n",
        "    temp = self.head\n",
        "    pos=0\n",
        "    while temp!=None:\n",
        "      if temp.key == key:\n",
        "        return pos\n",
        "      pos+=1\n",
        "      temp=temp.address\n",
        "    return -1\n",
        "\n",
        "  def get_node_at_index(self,index):\n",
        "    temp=self.head\n",
        "    counter=0\n",
        "    while temp!=None:\n",
        "      if counter == index:\n",
        "        return temp\n",
        "      temp=temp.address\n",
        "      counter+=1\n",
        "\n",
        "  def size(self):\n",
        "\n",
        "    temp=self.head\n",
        "    counter=0\n",
        "    while temp!=None:\n",
        "      counter+=1\n",
        "      temp=temp.address\n",
        "    return counter\n",
        "\n",
        "\n",
        "\n"
      ],
      "execution_count": 46,
      "outputs": []
    },
    {
      "cell_type": "code",
      "metadata": {
        "id": "uoHswr6gPql4"
      },
      "source": [
        "class Dictionary:\n",
        "\n",
        "  def __init__(self,capacity):\n",
        "    #capacity means how long we have to create arrary\n",
        "    self.capacity = capacity\n",
        "    self.size = 0\n",
        "    #size shows how many elements in dictionary\n",
        "    #create array of link list \n",
        "    self.buckets = self.make_array(capacity)\n",
        "    #buckets is a group of bucket\n",
        "    #bucket means link list which is present in element of array\n",
        "\n",
        "  def make_array(self,capacity):\n",
        "    l=[]\n",
        "    for i in range(capacity):\n",
        "      l.append(LinkList())\n",
        "      #in every item one link list object is created of differant address\n",
        "      #l=(LinkList())*capacity it also create same thing but adreess here is same for all link list\n",
        "    return l\n",
        "  \n",
        "  def put(self,key,value):\n",
        "    #first we have to calculate hash value\n",
        "    bucket_index=self.hash_function(key)\n",
        "    node_index=self.get_node_index(bucket_index,key)\n",
        "    if node_index == -1:\n",
        "      #insert\n",
        "      self.buckets[bucket_index].add(key,value)\n",
        "      self.size+=1\n",
        "      #when we add new node we have to increase the size\n",
        "      #here we check the load factor\n",
        "      print(self.size/self.capacity)\n",
        "      if (self.size/self.capacity>=2):\n",
        "        self.rehash()\n",
        "\n",
        "    else:\n",
        "      #update\n",
        "      node=self.buckets[bucket_index].get_node_at_index(node_index)\n",
        "      node.value=value\n",
        "\n",
        "  def rehash(self):\n",
        "    self.capacity=self.capacity*2\n",
        "    old_buckets=self.buckets\n",
        "    self.size=0\n",
        "    #bcz we have to again insert the element \n",
        "    self.buckets=self.make_array(self.capacity)\n",
        "    for i in old_buckets:\n",
        "      for j in range(i.size()):\n",
        "        node=i.get_node_at_index(j)\n",
        "        key_item=node.key\n",
        "        value_item=node.value\n",
        "\n",
        "        self.put(key_item,value_item)\n",
        "\n",
        "\n",
        "\n",
        "\n",
        "\n",
        "  def get_node_index(self,bucket_index,key):\n",
        "    node_index = self.buckets[bucket_index].search(key)\n",
        "    return node_index\n",
        "\n",
        "\n",
        "  def hash_function(self,key):\n",
        "    return abs(hash(key))%self.capacity\n"
      ],
      "execution_count": 47,
      "outputs": []
    },
    {
      "cell_type": "code",
      "metadata": {
        "id": "of6RVo9pX_LN"
      },
      "source": [
        "d1=Dictionary(2)"
      ],
      "execution_count": 57,
      "outputs": []
    },
    {
      "cell_type": "code",
      "metadata": {
        "colab": {
          "base_uri": "https://localhost:8080/"
        },
        "id": "Urod7bZeYEMN",
        "outputId": "fbc11b6a-c4be-4032-b77e-f9a2ad91f56b"
      },
      "source": [
        "d1.put(\"r\",\"rm\")"
      ],
      "execution_count": 58,
      "outputs": [
        {
          "output_type": "stream",
          "text": [
            "0.5\n"
          ],
          "name": "stdout"
        }
      ]
    },
    {
      "cell_type": "code",
      "metadata": {
        "colab": {
          "base_uri": "https://localhost:8080/"
        },
        "id": "w-D7KLeqhAZv",
        "outputId": "005696c7-d37d-4f18-c776-cc2145a41bee"
      },
      "source": [
        "d1.put(\"a\",\"as\")"
      ],
      "execution_count": 59,
      "outputs": [
        {
          "output_type": "stream",
          "text": [
            "1.0\n"
          ],
          "name": "stdout"
        }
      ]
    },
    {
      "cell_type": "code",
      "metadata": {
        "colab": {
          "base_uri": "https://localhost:8080/"
        },
        "id": "0Enxe0PrhDMA",
        "outputId": "ac8f02e6-f9a8-4397-b739-0bae1485f5f6"
      },
      "source": [
        "d1.put(\"b\",\"we\")"
      ],
      "execution_count": 60,
      "outputs": [
        {
          "output_type": "stream",
          "text": [
            "1.5\n"
          ],
          "name": "stdout"
        }
      ]
    },
    {
      "cell_type": "code",
      "metadata": {
        "colab": {
          "base_uri": "https://localhost:8080/"
        },
        "id": "kChhylsthGe1",
        "outputId": "c8c50110-adfa-465f-9ccd-fcdb91f3021c"
      },
      "source": [
        "d1.put(\"v\",\"ram\")"
      ],
      "execution_count": 61,
      "outputs": [
        {
          "output_type": "stream",
          "text": [
            "2.0\n",
            "0.25\n",
            "0.5\n",
            "0.75\n",
            "1.0\n"
          ],
          "name": "stdout"
        }
      ]
    },
    {
      "cell_type": "code",
      "metadata": {
        "colab": {
          "base_uri": "https://localhost:8080/"
        },
        "id": "XBgNp2SDhKGD",
        "outputId": "4cc1030b-36e1-4f48-d2c4-e9075906efd7"
      },
      "source": [
        "d1.capacity"
      ],
      "execution_count": 55,
      "outputs": [
        {
          "output_type": "execute_result",
          "data": {
            "text/plain": [
              "4"
            ]
          },
          "metadata": {
            "tags": []
          },
          "execution_count": 55
        }
      ]
    },
    {
      "cell_type": "code",
      "metadata": {
        "colab": {
          "base_uri": "https://localhost:8080/"
        },
        "id": "zz334s1HhajW",
        "outputId": "6426ce35-f4df-42f4-dab8-3d4744fdf775"
      },
      "source": [
        "d1.size"
      ],
      "execution_count": 56,
      "outputs": [
        {
          "output_type": "execute_result",
          "data": {
            "text/plain": [
              "4"
            ]
          },
          "metadata": {
            "tags": []
          },
          "execution_count": 56
        }
      ]
    },
    {
      "cell_type": "code",
      "metadata": {
        "id": "rp7JeU16hceX"
      },
      "source": [
        ""
      ],
      "execution_count": null,
      "outputs": []
    }
  ]
}