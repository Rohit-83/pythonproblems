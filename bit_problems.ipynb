{
  "nbformat": 4,
  "nbformat_minor": 0,
  "metadata": {
    "colab": {
      "name": "bit-problems.ipynb",
      "provenance": [],
      "authorship_tag": "ABX9TyMeFzKh84mglpQjer4B99hO",
      "include_colab_link": true
    },
    "kernelspec": {
      "name": "python3",
      "display_name": "Python 3"
    }
  },
  "cells": [
    {
      "cell_type": "markdown",
      "metadata": {
        "id": "view-in-github",
        "colab_type": "text"
      },
      "source": [
        "<a href=\"https://colab.research.google.com/github/Rohit-83/pythonproblems/blob/main/bit_problems.ipynb\" target=\"_parent\"><img src=\"https://colab.research.google.com/assets/colab-badge.svg\" alt=\"Open In Colab\"/></a>"
      ]
    },
    {
      "cell_type": "code",
      "metadata": {
        "id": "XRCnnYW7L13a"
      },
      "source": [
        "import time\n",
        "def odd_even(num):\n",
        "  start = time.time()\n",
        "  if num%2==0:\n",
        "    print(time.time()-start)\n",
        "    return \"even\"\n",
        "  else:\n",
        "    print(time.time()-start)\n",
        "    return \"odd\"\n"
      ],
      "execution_count": 7,
      "outputs": []
    },
    {
      "cell_type": "code",
      "metadata": {
        "colab": {
          "base_uri": "https://localhost:8080/"
        },
        "id": "G_zI-BKxMBAa",
        "outputId": "4869ffd6-ddd4-4320-d805-addca1d1c528"
      },
      "source": [
        "print(odd_even(1000000000001111111111111111))"
      ],
      "execution_count": 20,
      "outputs": [
        {
          "output_type": "stream",
          "text": [
            "9.5367431640625e-07\n",
            "odd\n"
          ],
          "name": "stdout"
        }
      ]
    },
    {
      "cell_type": "code",
      "metadata": {
        "id": "a_vEJUuxMnZt"
      },
      "source": [
        "def even_odd(num):\n",
        "  #using bit operation (&) 1&1 = 1  and 1&0=0\n",
        "  start = time.time()\n",
        "  if num & 1 == 0:\n",
        "    print(time.time()-start)\n",
        "    return \"even\"\n",
        "  else:\n",
        "    print(time.time()-start)\n",
        "    return \"odd\""
      ],
      "execution_count": 10,
      "outputs": []
    },
    {
      "cell_type": "code",
      "metadata": {
        "colab": {
          "base_uri": "https://localhost:8080/"
        },
        "id": "8CQFqgYRM_1a",
        "outputId": "1c12aaf4-efd7-48d5-a67d-21d1b225bf1c"
      },
      "source": [
        "print(even_odd(10000000000011111111111111112))"
      ],
      "execution_count": 23,
      "outputs": [
        {
          "output_type": "stream",
          "text": [
            "9.5367431640625e-07\n",
            "even\n"
          ],
          "name": "stdout"
        }
      ]
    },
    {
      "cell_type": "code",
      "metadata": {
        "id": "udze5z4-Nrxw"
      },
      "source": [
        "def swap(a,b):\n",
        "  #using bit operation xor where if value of a and b is diffearnt then it give 1 otherwise 0\n",
        "  print(a,b)\n",
        "  a = a^b\n",
        "  b = a^b\n",
        "  a = a^b \n",
        "  print(a,b)\n",
        "  return \n",
        "\n"
      ],
      "execution_count": 24,
      "outputs": []
    },
    {
      "cell_type": "code",
      "metadata": {
        "colab": {
          "base_uri": "https://localhost:8080/"
        },
        "id": "3WwI7TOwOHKS",
        "outputId": "84f878bb-d7e6-4ebd-8300-7a446263028e"
      },
      "source": [
        "print(swap(3,4))"
      ],
      "execution_count": 27,
      "outputs": [
        {
          "output_type": "stream",
          "text": [
            "3 4\n",
            "4 3\n",
            "None\n"
          ],
          "name": "stdout"
        }
      ]
    },
    {
      "cell_type": "code",
      "metadata": {
        "id": "Hl_hmiQdOWLS"
      },
      "source": [
        "def swapnum(a,b):\n",
        "  print(a,b)\n",
        "  a = a+b \n",
        "  b = a-b\n",
        "  a = a-b\n",
        "  print(a,b)\n",
        "  return"
      ],
      "execution_count": 31,
      "outputs": []
    },
    {
      "cell_type": "code",
      "metadata": {
        "colab": {
          "base_uri": "https://localhost:8080/"
        },
        "id": "k1y95vKiPChX",
        "outputId": "1da25d02-8c84-4001-a0b3-b22e54c5de88"
      },
      "source": [
        "(swapnum(101,105))\n"
      ],
      "execution_count": 33,
      "outputs": [
        {
          "output_type": "stream",
          "text": [
            "101 105\n",
            "105 101\n"
          ],
          "name": "stdout"
        }
      ]
    },
    {
      "cell_type": "code",
      "metadata": {
        "id": "oxBQdUh_PHDX"
      },
      "source": [
        ""
      ],
      "execution_count": null,
      "outputs": []
    }
  ]
}