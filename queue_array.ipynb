{
  "nbformat": 4,
  "nbformat_minor": 0,
  "metadata": {
    "colab": {
      "name": "queue-array.ipynb",
      "provenance": [],
      "collapsed_sections": [],
      "authorship_tag": "ABX9TyMgejorN3ZSYijLI1ViQLH+",
      "include_colab_link": true
    },
    "kernelspec": {
      "name": "python3",
      "display_name": "Python 3"
    }
  },
  "cells": [
    {
      "cell_type": "markdown",
      "metadata": {
        "id": "view-in-github",
        "colab_type": "text"
      },
      "source": [
        "<a href=\"https://colab.research.google.com/github/Rohit-83/pythonproblems/blob/main/queue_array.ipynb\" target=\"_parent\"><img src=\"https://colab.research.google.com/assets/colab-badge.svg\" alt=\"Open In Colab\"/></a>"
      ]
    },
    {
      "cell_type": "code",
      "metadata": {
        "id": "v1Yx-AfFdvaB"
      },
      "source": [
        "class Queue:\n",
        "  def __init__(self,size):\n",
        "    self.size = size\n",
        "    self.queue=[None]*self.size\n",
        "    self.front=-1\n",
        "    self.rear=-1\n",
        "\n",
        "  def enqueue(self,value):\n",
        "    if self.rear == self.size-1 and self.rear == self.front:\n",
        "      self.rear=-1\n",
        "      self.front=-1\n",
        "    if self.rear==self.size-1:\n",
        "      return \"queue full\"\n",
        "    self.rear+=1\n",
        "    self.queue[self.rear]=value\n",
        "\n",
        "  def front_item(self):\n",
        "    if self.front == self.rear:\n",
        "      return \"empty\"\n",
        "    else:\n",
        "      return self.queue[self.front+1]\n",
        "\n",
        "  def last_item(self):\n",
        "    if self.front == self.rear:\n",
        "      return \"empty\"\n",
        "    else:\n",
        "      return self.queue[self.rear]\n",
        "\n",
        "  def dequeue(self):\n",
        "    if self.rear==self.front:\n",
        "      return \"empty\"\n",
        "    else:\n",
        "      self.front+=1\n",
        "\n",
        "  def traverse(self):\n",
        "    for i in range(self.front+1,self.rear+1):\n",
        "      print(self.queue[i],end=\" \")\n",
        "\n",
        "\n"
      ],
      "execution_count": 38,
      "outputs": []
    },
    {
      "cell_type": "code",
      "metadata": {
        "id": "vd9qWLHbe0cn"
      },
      "source": [
        "q=Queue(3)\n",
        "q.enqueue(7)\n",
        "q.enqueue(6)"
      ],
      "execution_count": null,
      "outputs": []
    },
    {
      "cell_type": "code",
      "metadata": {
        "colab": {
          "base_uri": "https://localhost:8080/"
        },
        "id": "Vo1zw-PmfOHP",
        "outputId": "f752a928-74e2-4c68-e512-49e07e97a704"
      },
      "source": [
        "q.traverse()"
      ],
      "execution_count": null,
      "outputs": [
        {
          "output_type": "stream",
          "text": [
            "9 "
          ],
          "name": "stdout"
        }
      ]
    },
    {
      "cell_type": "code",
      "metadata": {
        "id": "ILzk2JqCg73F"
      },
      "source": [
        "q.enqueue(9)"
      ],
      "execution_count": null,
      "outputs": []
    },
    {
      "cell_type": "code",
      "metadata": {
        "id": "XeAw9QB9ho4T"
      },
      "source": [
        "q.dequeue()"
      ],
      "execution_count": null,
      "outputs": []
    }
  ]
}